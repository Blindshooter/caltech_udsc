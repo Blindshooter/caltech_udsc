{
 "cells": [
  {
   "cell_type": "markdown",
   "metadata": {},
   "source": [
    "## Full Keras with augmentation"
   ]
  },
  {
   "cell_type": "code",
   "execution_count": 1,
   "metadata": {
    "collapsed": true
   },
   "outputs": [],
   "source": [
    "import os\n",
    "os.environ[\"CUDA_DEVICE_ORDER\"] = \"PCI_BUS_ID\"\n",
    "os.environ[\"CUDA_VISIBLE_DEVICES\"] = \"0\""
   ]
  },
  {
   "cell_type": "code",
   "execution_count": 2,
   "metadata": {
    "collapsed": true
   },
   "outputs": [],
   "source": [
    "import numpy as np\n",
    "import pandas as pd\n",
    "import matplotlib.pyplot as plt\n",
    "\n",
    "import skimage \n",
    "from scipy import ndimage, misc"
   ]
  },
  {
   "cell_type": "code",
   "execution_count": 3,
   "metadata": {
    "collapsed": true
   },
   "outputs": [],
   "source": [
    "import cv2\n",
    "def plot_image(file_path):\n",
    "    \"\"\" Print image from file 'file_path' \"\"\"\n",
    "    img = cv2.imread(file_path)\n",
    "    cv_rgb = cv2.cvtColor(img, cv2.COLOR_BGR2RGB)\n",
    "    plt.imshow(cv_rgb)\n",
    "    plt.show()"
   ]
  },
  {
   "cell_type": "code",
   "execution_count": 4,
   "metadata": {},
   "outputs": [
    {
     "name": "stderr",
     "output_type": "stream",
     "text": [
      "Using TensorFlow backend.\n"
     ]
    }
   ],
   "source": [
    "from keras.utils import np_utils\n",
    "from sklearn.datasets import load_files\n",
    "\n",
    "data = load_files('prep/train')\n",
    "caltech_files_train = np.array(data['filenames'])\n",
    "caltech_targets_train = np.array(data['target'])\n",
    "\n",
    "data_val = load_files('prep/val')\n",
    "caltech_files_val = np.array(data_val['filenames'])\n",
    "caltech_targets_val = np.array(data_val['target'])\n",
    "\n",
    "X_train, X_val = caltech_files_train, caltech_files_val\n",
    "y_train_class, y_val_class = caltech_targets_train, caltech_targets_val\n",
    "y_train = np_utils.to_categorical(y_train_class, 257)\n",
    "y_val = np_utils.to_categorical(y_val_class, 257)\n",
    "\n",
    "del data, data_val, caltech_files_train, caltech_targets_train, caltech_files_val, caltech_targets_val"
   ]
  },
  {
   "cell_type": "code",
   "execution_count": 5,
   "metadata": {},
   "outputs": [],
   "source": [
    "test_files = ['prep/test/'+ file for file in os.listdir('prep/test')]\n",
    "#test_files[:5]"
   ]
  },
  {
   "cell_type": "code",
   "execution_count": 6,
   "metadata": {},
   "outputs": [],
   "source": [
    "from keras.preprocessing.image import ImageDataGenerator, array_to_img, img_to_array, load_img\n",
    "\n",
    "resize = (64, 64)\n",
    "\n",
    "CHANNELS = 3\n",
    "ROWS = resize[0]\n",
    "COLS = resize[1]\n",
    "mean = 135\n",
    "\n",
    "datagen = ImageDataGenerator(\n",
    "        rotation_range=40,\n",
    "        width_shift_range=0.2,\n",
    "        height_shift_range=0.2,\n",
    "        shear_range=0.2,\n",
    "        zoom_range=0.2,\n",
    "        horizontal_flip=True,\n",
    "        fill_mode='nearest')"
   ]
  },
  {
   "cell_type": "markdown",
   "metadata": {},
   "source": [
    "## Data load and resize"
   ]
  },
  {
   "cell_type": "code",
   "execution_count": 7,
   "metadata": {
    "collapsed": true
   },
   "outputs": [],
   "source": [
    "from keras.preprocessing import image                  \n",
    "from tqdm import tqdm\n",
    "\n",
    "def path_to_tensor(img_path, resize = resize):\n",
    "    # loads RGB image as PIL.Image.Image type\n",
    "    img = image.load_img(img_path, target_size=resize)\n",
    "    # convert PIL.Image.Image type to 3D tensor with shape (224, 224, 3)\n",
    "    x = image.img_to_array(img)\n",
    "    # convert 3D tensor to 4D tensor with shape (1, 224, 224, 3) and return 4D tensor\n",
    "    return np.expand_dims(x, axis=0)\n",
    "\n",
    "def paths_to_tensor(img_paths, resize = resize):\n",
    "    list_of_tensors = [path_to_tensor(img_path, resize) for img_path in tqdm(img_paths)]\n",
    "    return np.vstack(list_of_tensors)"
   ]
  },
  {
   "cell_type": "code",
   "execution_count": 17,
   "metadata": {},
   "outputs": [
    {
     "name": "stderr",
     "output_type": "stream",
     "text": [
      "100%|██████████| 16027/16027 [00:06<00:00, 2631.57it/s]\n",
      "100%|██████████| 6870/6870 [00:02<00:00, 2635.24it/s]\n",
      "100%|██████████| 7710/7710 [00:02<00:00, 2580.14it/s]\n"
     ]
    }
   ],
   "source": [
    "from PIL import ImageFile                            \n",
    "ImageFile.LOAD_TRUNCATED_IMAGES = True                 \n",
    "\n",
    "# pre-process the data for Keras\n",
    "train_data = paths_to_tensor(X_train, resize).astype('float32')/255\n",
    "valid_data = paths_to_tensor(X_val, resize).astype('float32')/255\n",
    "test_data = paths_to_tensor(test_files, resize).astype('float32')/255"
   ]
  },
  {
   "cell_type": "code",
   "execution_count": 18,
   "metadata": {},
   "outputs": [
    {
     "name": "stdout",
     "output_type": "stream",
     "text": [
      "(16027, 64, 64, 3)\n",
      "(6870, 64, 64, 3)\n",
      "(7710, 64, 64, 3)\n"
     ]
    }
   ],
   "source": [
    "print(train_data.shape)\n",
    "print(valid_data.shape)\n",
    "print(test_data.shape)"
   ]
  },
  {
   "cell_type": "code",
   "execution_count": 10,
   "metadata": {},
   "outputs": [
    {
     "name": "stdout",
     "output_type": "stream",
     "text": [
      "Found 16027 images belonging to 257 classes.\n",
      "Found 6870 images belonging to 257 classes.\n",
      "Found 0 images belonging to 0 classes.\n"
     ]
    }
   ],
   "source": [
    "batch_size = 16\n",
    "\n",
    "train_datagen = ImageDataGenerator(\n",
    "        rescale=1./255,\n",
    "        rotation_range=20,\n",
    "        shear_range=0.2,\n",
    "        zoom_range=0.2,\n",
    "        width_shift_range=0.2,\n",
    "        height_shift_range=0.2,\n",
    "        horizontal_flip=True)\n",
    "\n",
    "# only rescaling for test set\n",
    "test_datagen = ImageDataGenerator(rescale=1./255)\n",
    "\n",
    "# this is a generator that will read pictures found in\n",
    "# subfolers of 'data/train', and indefinitely generate\n",
    "# batches of augmented image data\n",
    "train_generator = train_datagen.flow_from_directory(\n",
    "        'prep/train',  # this is the target directory\n",
    "        target_size=(ROWS, COLS),  # all images will be resized to 150x150\n",
    "        batch_size=batch_size,\n",
    "        class_mode='categorical')  # since we use binary_crossentropy loss, we need binary labels\n",
    "\n",
    "# this is a similar generator, for validation data\n",
    "validation_generator = train_datagen.flow_from_directory(\n",
    "        'prep/val',\n",
    "        target_size=(ROWS, COLS),\n",
    "        batch_size=batch_size,\n",
    "        class_mode='categorical')\n",
    "\n",
    "test_generator = test_datagen.flow_from_directory(\n",
    "    'prep/test',\n",
    "    target_size=(64, 64),\n",
    "    class_mode=None,\n",
    "    batch_size=64,\n",
    "    shuffle=False)"
   ]
  },
  {
   "cell_type": "code",
   "execution_count": 11,
   "metadata": {},
   "outputs": [
    {
     "name": "stdout",
     "output_type": "stream",
     "text": [
      "_________________________________________________________________\n",
      "Layer (type)                 Output Shape              Param #   \n",
      "=================================================================\n",
      "conv2d_1 (Conv2D)            (None, 64, 64, 16)        208       \n",
      "_________________________________________________________________\n",
      "max_pooling2d_1 (MaxPooling2 (None, 32, 32, 16)        0         \n",
      "_________________________________________________________________\n",
      "conv2d_2 (Conv2D)            (None, 32, 32, 32)        2080      \n",
      "_________________________________________________________________\n",
      "max_pooling2d_2 (MaxPooling2 (None, 16, 16, 32)        0         \n",
      "_________________________________________________________________\n",
      "conv2d_3 (Conv2D)            (None, 16, 16, 64)        8256      \n",
      "_________________________________________________________________\n",
      "max_pooling2d_3 (MaxPooling2 (None, 8, 8, 64)          0         \n",
      "_________________________________________________________________\n",
      "dropout_1 (Dropout)          (None, 8, 8, 64)          0         \n",
      "_________________________________________________________________\n",
      "flatten_1 (Flatten)          (None, 4096)              0         \n",
      "_________________________________________________________________\n",
      "dense_1 (Dense)              (None, 512)               2097664   \n",
      "_________________________________________________________________\n",
      "dropout_2 (Dropout)          (None, 512)               0         \n",
      "_________________________________________________________________\n",
      "dense_2 (Dense)              (None, 257)               131841    \n",
      "=================================================================\n",
      "Total params: 2,240,049.0\n",
      "Trainable params: 2,240,049.0\n",
      "Non-trainable params: 0.0\n",
      "_________________________________________________________________\n"
     ]
    }
   ],
   "source": [
    "from keras.layers import Conv2D, MaxPooling2D, GlobalAveragePooling1D\n",
    "from keras.layers import Dropout, Flatten, Dense\n",
    "from keras.models import Sequential\n",
    "\n",
    "model = Sequential()\n",
    "\n",
    "model.add(Conv2D(filters=16, kernel_size=2, padding='same', activation='relu', \n",
    "                        input_shape=(resize[0], resize[1], CHANNELS)))\n",
    "model.add(MaxPooling2D(pool_size=2))\n",
    "model.add(Conv2D(filters=32, kernel_size=2, padding='same', activation='relu'))\n",
    "model.add(MaxPooling2D(pool_size=2))\n",
    "model.add(Conv2D(filters=64, kernel_size=2, padding='same', activation='relu'))\n",
    "model.add(MaxPooling2D(pool_size=2))\n",
    "#model.add(Conv2D(filters=128, kernel_size=3, padding='same', activation='relu'))\n",
    "#model.add(MaxPooling2D(pool_size=2))\n",
    "#model.add(Conv2D(filters=256, kernel_size=3, padding='same', activation='relu'))\n",
    "#model.add(MaxPooling2D(pool_size=2))\n",
    "#model.add(Conv2D(filters=512, kernel_size=3, padding='same', activation='relu'))\n",
    "#model.add(MaxPooling2D(pool_size=2))\n",
    "model.add(Dropout(0.4))\n",
    "model.add(Flatten())\n",
    "model.add(Dense(512, activation='relu'))\n",
    "model.add(Dropout(0.4))\n",
    "model.add(Dense(257, activation='softmax'))\n",
    "\n",
    "model.summary()"
   ]
  },
  {
   "cell_type": "code",
   "execution_count": 12,
   "metadata": {
    "collapsed": true
   },
   "outputs": [],
   "source": [
    "model.compile(optimizer='adam', loss='categorical_crossentropy', metrics=['accuracy'])"
   ]
  },
  {
   "cell_type": "code",
   "execution_count": 13,
   "metadata": {
    "collapsed": true
   },
   "outputs": [],
   "source": [
    "from keras.callbacks import ModelCheckpoint, ReduceLROnPlateau, EarlyStopping\n",
    "\n",
    "epochs = 20\n",
    "\n",
    "checkpointer = [ModelCheckpoint(filepath='saved_models/weights.best.keras_aug1.hdf5', \n",
    "                               verbose=1, save_best_only=True),\n",
    "               ReduceLROnPlateau(verbose=1, patience=3, factor = 0.1), \n",
    "               EarlyStopping(verbose=1, patience=5, monitor='val_loss')]\n",
    "\n",
    "#model.fit(train, y_train, \n",
    "#          validation_data=(val, y_val),\n",
    "#          epochs=epochs, batch_size=64, callbacks=checkpointer, verbose=1)"
   ]
  },
  {
   "cell_type": "code",
   "execution_count": 14,
   "metadata": {},
   "outputs": [
    {
     "name": "stdout",
     "output_type": "stream",
     "text": [
      "Epoch 1/20\n",
      "1000/1001 [============================>.] - ETA: 0s - loss: 5.2259 - acc: 0.0683Epoch 00000: val_loss improved from inf to 4.91527, saving model to saved_models/weights.best.keras_aug1.hdf5\n",
      "1002/1001 [==============================] - 28s - loss: 5.2263 - acc: 0.0683 - val_loss: 4.9153 - val_acc: 0.0964\n",
      "Epoch 2/20\n",
      "1001/1001 [============================>.] - ETA: 0s - loss: 4.8075 - acc: 0.1090- ETA:Epoch 00001: val_loss improved from 4.91527 to 4.57782, saving model to saved_models/weights.best.keras_aug1.hdf5\n",
      "1002/1001 [==============================] - 25s - loss: 4.8064 - acc: 0.1092 - val_loss: 4.5778 - val_acc: 0.1320\n",
      "Epoch 3/20\n",
      "1000/1001 [============================>.] - ETA: 0s - loss: 4.5637 - acc: 0.1320- ETA: 1sEpoch 00002: val_loss improved from 4.57782 to 4.43214, saving model to saved_models/weights.best.keras_aug1.hdf5\n",
      "1002/1001 [==============================] - 26s - loss: 4.5636 - acc: 0.1320 - val_loss: 4.4321 - val_acc: 0.1572\n",
      "Epoch 4/20\n",
      "1000/1001 [============================>.] - ETA: 0s - loss: 4.4122 - acc: 0.1532Epoch 00003: val_loss improved from 4.43214 to 4.28154, saving model to saved_models/weights.best.keras_aug1.hdf5\n",
      "1002/1001 [==============================] - 26s - loss: 4.4112 - acc: 0.1533 - val_loss: 4.2815 - val_acc: 0.1713\n",
      "Epoch 5/20\n",
      "1001/1001 [============================>.] - ETA: 0s - loss: 4.2961 - acc: 0.1646Epoch 00004: val_loss improved from 4.28154 to 4.20221, saving model to saved_models/weights.best.keras_aug1.hdf5\n",
      "1002/1001 [==============================] - 26s - loss: 4.2958 - acc: 0.1646 - val_loss: 4.2022 - val_acc: 0.1859\n",
      "Epoch 6/20\n",
      "1001/1001 [============================>.] - ETA: 0s - loss: 4.1983 - acc: 0.1715Epoch 00005: val_loss improved from 4.20221 to 4.14926, saving model to saved_models/weights.best.keras_aug1.hdf5\n",
      "1002/1001 [==============================] - 26s - loss: 4.1983 - acc: 0.1716 - val_loss: 4.1493 - val_acc: 0.1911\n",
      "Epoch 7/20\n",
      "1000/1001 [============================>.] - ETA: 0s - loss: 4.1073 - acc: 0.1861Epoch 00006: val_loss improved from 4.14926 to 4.04470, saving model to saved_models/weights.best.keras_aug1.hdf5\n",
      "1002/1001 [==============================] - 26s - loss: 4.1073 - acc: 0.1862 - val_loss: 4.0447 - val_acc: 0.2066\n",
      "Epoch 8/20\n",
      "1001/1001 [============================>.] - ETA: 0s - loss: 4.0327 - acc: 0.1848Epoch 00007: val_loss improved from 4.04470 to 4.01239, saving model to saved_models/weights.best.keras_aug1.hdf5\n",
      "1002/1001 [==============================] - 26s - loss: 4.0327 - acc: 0.1847 - val_loss: 4.0124 - val_acc: 0.2098\n",
      "Epoch 9/20\n",
      "1001/1001 [============================>.] - ETA: 0s - loss: 3.9884 - acc: 0.1962Epoch 00008: val_loss did not improve\n",
      "1002/1001 [==============================] - 26s - loss: 3.9888 - acc: 0.1961 - val_loss: 4.0188 - val_acc: 0.2105\n",
      "Epoch 10/20\n",
      "1001/1001 [============================>.] - ETA: 0s - loss: 3.9463 - acc: 0.2020Epoch 00009: val_loss improved from 4.01239 to 3.96807, saving model to saved_models/weights.best.keras_aug1.hdf5\n",
      "1002/1001 [==============================] - 27s - loss: 3.9468 - acc: 0.2018 - val_loss: 3.9681 - val_acc: 0.2217\n",
      "Epoch 11/20\n",
      "1000/1001 [============================>.] - ETA: 0s - loss: 3.9024 - acc: 0.2071Epoch 00010: val_loss improved from 3.96807 to 3.92435, saving model to saved_models/weights.best.keras_aug1.hdf5\n",
      "1002/1001 [==============================] - 27s - loss: 3.9012 - acc: 0.2072 - val_loss: 3.9244 - val_acc: 0.2227\n",
      "Epoch 12/20\n",
      " 999/1001 [============================>.] - ETA: 0s - loss: 3.8565 - acc: 0.2133- ETA: 1s - lEpoch 00011: val_loss improved from 3.92435 to 3.91061, saving model to saved_models/weights.best.keras_aug1.hdf5\n",
      "1002/1001 [==============================] - 26s - loss: 3.8554 - acc: 0.2135 - val_loss: 3.9106 - val_acc: 0.2290\n",
      "Epoch 13/20\n",
      " 998/1001 [============================>.] - ETA: 0s - loss: 3.8262 - acc: 0.2152Epoch 00012: val_loss improved from 3.91061 to 3.90627, saving model to saved_models/weights.best.keras_aug1.hdf5\n",
      "1002/1001 [==============================] - 26s - loss: 3.8252 - acc: 0.2153 - val_loss: 3.9063 - val_acc: 0.2294\n",
      "Epoch 14/20\n",
      "1001/1001 [============================>.] - ETA: 0s - loss: 3.7897 - acc: 0.2158Epoch 00013: val_loss improved from 3.90627 to 3.88467, saving model to saved_models/weights.best.keras_aug1.hdf5\n",
      "1002/1001 [==============================] - 25s - loss: 3.7897 - acc: 0.2156 - val_loss: 3.8847 - val_acc: 0.2349\n",
      "Epoch 15/20\n",
      "1000/1001 [============================>.] - ETA: 0s - loss: 3.7624 - acc: 0.2188Epoch 00014: val_loss improved from 3.88467 to 3.84610, saving model to saved_models/weights.best.keras_aug1.hdf5\n",
      "1002/1001 [==============================] - 26s - loss: 3.7626 - acc: 0.2187 - val_loss: 3.8461 - val_acc: 0.2410\n",
      "Epoch 16/20\n",
      " 999/1001 [============================>.] - ETA: 0s - loss: 3.7443 - acc: 0.2257Epoch 00015: val_loss improved from 3.84610 to 3.83664, saving model to saved_models/weights.best.keras_aug1.hdf5\n",
      "1002/1001 [==============================] - 25s - loss: 3.7448 - acc: 0.2255 - val_loss: 3.8366 - val_acc: 0.2419\n",
      "Epoch 17/20\n",
      " 999/1001 [============================>.] - ETA: 0s - loss: 3.7319 - acc: 0.2242Epoch 00016: val_loss did not improve\n",
      "1002/1001 [==============================] - 25s - loss: 3.7324 - acc: 0.2242 - val_loss: 3.8600 - val_acc: 0.2361\n",
      "Epoch 18/20\n",
      " 999/1001 [============================>.] - ETA: 0s - loss: 3.6891 - acc: 0.2327Epoch 00017: val_loss improved from 3.83664 to 3.82823, saving model to saved_models/weights.best.keras_aug1.hdf5\n",
      "1002/1001 [==============================] - 24s - loss: 3.6897 - acc: 0.2328 - val_loss: 3.8282 - val_acc: 0.2426\n",
      "Epoch 19/20\n",
      " 999/1001 [============================>.] - ETA: 0s - loss: 3.6765 - acc: 0.2346Epoch 00018: val_loss improved from 3.82823 to 3.81684, saving model to saved_models/weights.best.keras_aug1.hdf5\n",
      "1002/1001 [==============================] - 25s - loss: 3.6781 - acc: 0.2346 - val_loss: 3.8168 - val_acc: 0.2472\n",
      "Epoch 20/20\n",
      "1001/1001 [============================>.] - ETA: 0s - loss: 3.6360 - acc: 0.2378Epoch 00019: val_loss improved from 3.81684 to 3.78817, saving model to saved_models/weights.best.keras_aug1.hdf5\n",
      "1002/1001 [==============================] - 26s - loss: 3.6364 - acc: 0.2377 - val_loss: 3.7882 - val_acc: 0.2546\n"
     ]
    },
    {
     "data": {
      "text/plain": [
       "<keras.callbacks.History at 0x7f2ed2ba8978>"
      ]
     },
     "execution_count": 14,
     "metadata": {},
     "output_type": "execute_result"
    }
   ],
   "source": [
    "model.fit_generator(\n",
    "        train_generator,\n",
    "        steps_per_epoch=len(train_data) / batch_size,\n",
    "        epochs=epochs,\n",
    "        validation_data=validation_generator,\n",
    "        validation_steps=len(valid_data) / batch_size, callbacks=checkpointer, verbose=1)"
   ]
  },
  {
   "cell_type": "code",
   "execution_count": 19,
   "metadata": {},
   "outputs": [
    {
     "name": "stdout",
     "output_type": "stream",
     "text": [
      "Validation accuracy: 28.17%\n"
     ]
    }
   ],
   "source": [
    "model.load_weights('saved_models/weights.best.keras_aug1.hdf5')\n",
    "predictions = [np.argmax(model.predict(np.expand_dims(feature, axis=0))) for feature in valid_data]\n",
    "# get val accuracy\n",
    "val_accuracy = 100*np.sum(np.array(predictions)==np.argmax(y_val, axis=1))/len(predictions)\n",
    "print('Validation accuracy: %.2f%%' % val_accuracy)"
   ]
  },
  {
   "cell_type": "code",
   "execution_count": 21,
   "metadata": {},
   "outputs": [],
   "source": [
    "predictions_test = [1+np.argmax(model.predict(np.expand_dims(feature, axis=0))) for feature in test_data]"
   ]
  },
  {
   "cell_type": "code",
   "execution_count": 22,
   "metadata": {},
   "outputs": [
    {
     "data": {
      "text/html": [
       "<div>\n",
       "<style>\n",
       "    .dataframe thead tr:only-child th {\n",
       "        text-align: right;\n",
       "    }\n",
       "\n",
       "    .dataframe thead th {\n",
       "        text-align: left;\n",
       "    }\n",
       "\n",
       "    .dataframe tbody tr th {\n",
       "        vertical-align: top;\n",
       "    }\n",
       "</style>\n",
       "<table border=\"1\" class=\"dataframe\">\n",
       "  <thead>\n",
       "    <tr style=\"text-align: right;\">\n",
       "      <th></th>\n",
       "      <th>image</th>\n",
       "      <th>class</th>\n",
       "    </tr>\n",
       "  </thead>\n",
       "  <tbody>\n",
       "    <tr>\n",
       "      <th>0</th>\n",
       "      <td>test</td>\n",
       "      <td>105</td>\n",
       "    </tr>\n",
       "    <tr>\n",
       "      <th>1</th>\n",
       "      <td>test</td>\n",
       "      <td>232</td>\n",
       "    </tr>\n",
       "    <tr>\n",
       "      <th>2</th>\n",
       "      <td>test</td>\n",
       "      <td>149</td>\n",
       "    </tr>\n",
       "    <tr>\n",
       "      <th>3</th>\n",
       "      <td>test</td>\n",
       "      <td>232</td>\n",
       "    </tr>\n",
       "    <tr>\n",
       "      <th>4</th>\n",
       "      <td>test</td>\n",
       "      <td>38</td>\n",
       "    </tr>\n",
       "  </tbody>\n",
       "</table>\n",
       "</div>"
      ],
      "text/plain": [
       "  image  class\n",
       "0  test    105\n",
       "1  test    232\n",
       "2  test    149\n",
       "3  test    232\n",
       "4  test     38"
      ]
     },
     "execution_count": 22,
     "metadata": {},
     "output_type": "execute_result"
    }
   ],
   "source": [
    "image = [item.split('/')[1] for item in test_files]\n",
    "submission = pd.DataFrame(\n",
    "    {'image': image,\n",
    "     'class': predictions_test\n",
    "    })\n",
    "submission = submission[['image','class']]\n",
    "submission.head()"
   ]
  },
  {
   "cell_type": "code",
   "execution_count": 23,
   "metadata": {
    "collapsed": true
   },
   "outputs": [],
   "source": [
    "submission.to_csv('keras_aug.csv', index = False)"
   ]
  },
  {
   "cell_type": "code",
   "execution_count": null,
   "metadata": {
    "collapsed": true
   },
   "outputs": [],
   "source": []
  }
 ],
 "metadata": {
  "kernelspec": {
   "display_name": "Python 3",
   "language": "python",
   "name": "python3"
  },
  "language_info": {
   "codemirror_mode": {
    "name": "ipython",
    "version": 3
   },
   "file_extension": ".py",
   "mimetype": "text/x-python",
   "name": "python",
   "nbconvert_exporter": "python",
   "pygments_lexer": "ipython3",
   "version": "3.6.1"
  }
 },
 "nbformat": 4,
 "nbformat_minor": 2
}
