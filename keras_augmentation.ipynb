{
 "cells": [
  {
   "cell_type": "markdown",
   "metadata": {},
   "source": [
    "## Full Keras with augmentation"
   ]
  },
  {
   "cell_type": "code",
   "execution_count": 1,
   "metadata": {
    "collapsed": true
   },
   "outputs": [],
   "source": [
    "import os\n",
    "os.environ[\"CUDA_DEVICE_ORDER\"] = \"PCI_BUS_ID\"\n",
    "os.environ[\"CUDA_VISIBLE_DEVICES\"] = \"0\""
   ]
  },
  {
   "cell_type": "code",
   "execution_count": 2,
   "metadata": {
    "collapsed": true
   },
   "outputs": [],
   "source": [
    "import numpy as np\n",
    "import pandas as pd\n",
    "import matplotlib.pyplot as plt\n",
    "\n",
    "import skimage \n",
    "from scipy import ndimage, misc"
   ]
  },
  {
   "cell_type": "code",
   "execution_count": 3,
   "metadata": {
    "collapsed": true
   },
   "outputs": [],
   "source": [
    "import cv2\n",
    "def plot_image(file_path):\n",
    "    \"\"\" Print image from file 'file_path' \"\"\"\n",
    "    img = cv2.imread(file_path)\n",
    "    cv_rgb = cv2.cvtColor(img, cv2.COLOR_BGR2RGB)\n",
    "    plt.imshow(cv_rgb)\n",
    "    plt.show()"
   ]
  },
  {
   "cell_type": "code",
   "execution_count": 4,
   "metadata": {},
   "outputs": [
    {
     "name": "stderr",
     "output_type": "stream",
     "text": [
      "Using TensorFlow backend.\n"
     ]
    }
   ],
   "source": [
    "from keras.utils import np_utils\n",
    "from sklearn.datasets import load_files\n",
    "\n",
    "data = load_files('prepnorm224/train')\n",
    "caltech_files_train = np.array(data['filenames'])\n",
    "caltech_targets_train = np.array(data['target'])\n",
    "\n",
    "data_val = load_files('prepnorm224/val')\n",
    "caltech_files_val = np.array(data_val['filenames'])\n",
    "caltech_targets_val = np.array(data_val['target'])\n",
    "\n",
    "X_train, X_val = caltech_files_train, caltech_files_val\n",
    "y_train_class, y_val_class = caltech_targets_train, caltech_targets_val\n",
    "y_train = np_utils.to_categorical(y_train_class, 256)\n",
    "y_val = np_utils.to_categorical(y_val_class, 256)\n",
    "\n",
    "del data, data_val, caltech_files_train, caltech_targets_train, caltech_files_val, caltech_targets_val"
   ]
  },
  {
   "cell_type": "code",
   "execution_count": 5,
   "metadata": {
    "collapsed": true
   },
   "outputs": [],
   "source": [
    "test_files = ['prepnorm224/test/'+ file for file in os.listdir('prepnorm224/test')]\n",
    "#test_files[:5]"
   ]
  },
  {
   "cell_type": "code",
   "execution_count": 6,
   "metadata": {
    "collapsed": true
   },
   "outputs": [],
   "source": [
    "from keras.preprocessing.image import ImageDataGenerator, array_to_img, img_to_array, load_img\n",
    "\n",
    "resize = (128, 128)\n",
    "\n",
    "CHANNELS = 3\n",
    "ROWS = resize[0]\n",
    "COLS = resize[1]\n",
    "mean = 135\n",
    "\n",
    "datagen = ImageDataGenerator(\n",
    "        rotation_range=40,\n",
    "        width_shift_range=0.1,\n",
    "        height_shift_range=0.1,\n",
    "        shear_range=0.1,\n",
    "        zoom_range=0.1,\n",
    "        horizontal_flip=True,\n",
    "        fill_mode='nearest')"
   ]
  },
  {
   "cell_type": "markdown",
   "metadata": {},
   "source": [
    "## Data load and resize"
   ]
  },
  {
   "cell_type": "code",
   "execution_count": 7,
   "metadata": {
    "collapsed": true
   },
   "outputs": [],
   "source": [
    "from keras.preprocessing import image                  \n",
    "from tqdm import tqdm\n",
    "\n",
    "def path_to_tensor(img_path, resize = resize):\n",
    "    # loads RGB image as PIL.Image.Image type\n",
    "    img = image.load_img(img_path, target_size=resize)\n",
    "    # convert PIL.Image.Image type to 3D tensor with shape (224, 224, 3)\n",
    "    x = image.img_to_array(img)\n",
    "    # convert 3D tensor to 4D tensor with shape (1, 224, 224, 3) and return 4D tensor\n",
    "    return np.expand_dims(x, axis=0)\n",
    "\n",
    "def paths_to_tensor(img_paths, resize = resize):\n",
    "    list_of_tensors = [path_to_tensor(img_path, resize) for img_path in tqdm(img_paths)]\n",
    "    return np.vstack(list_of_tensors)"
   ]
  },
  {
   "cell_type": "code",
   "execution_count": 8,
   "metadata": {},
   "outputs": [
    {
     "name": "stderr",
     "output_type": "stream",
     "text": [
      "100%|██████████| 15469/15469 [00:12<00:00, 1268.47it/s]\n"
     ]
    }
   ],
   "source": [
    "from PIL import ImageFile                            \n",
    "ImageFile.LOAD_TRUNCATED_IMAGES = True                 \n",
    "\n",
    "# pre-process the data for Keras\n",
    "train_data = paths_to_tensor(X_train, resize)/255"
   ]
  },
  {
   "cell_type": "code",
   "execution_count": 9,
   "metadata": {},
   "outputs": [
    {
     "name": "stderr",
     "output_type": "stream",
     "text": [
      "100%|██████████| 6631/6631 [00:05<00:00, 1210.93it/s]\n"
     ]
    }
   ],
   "source": [
    "valid_data = paths_to_tensor(X_val, resize)/255"
   ]
  },
  {
   "cell_type": "code",
   "execution_count": 10,
   "metadata": {},
   "outputs": [
    {
     "name": "stderr",
     "output_type": "stream",
     "text": [
      "100%|██████████| 7680/7680 [00:07<00:00, 1022.83it/s]\n"
     ]
    }
   ],
   "source": [
    "test_data = paths_to_tensor(test_files, resize)/255"
   ]
  },
  {
   "cell_type": "code",
   "execution_count": 11,
   "metadata": {},
   "outputs": [
    {
     "name": "stdout",
     "output_type": "stream",
     "text": [
      "(15469, 128, 128, 3)\n",
      "(6631, 128, 128, 3)\n",
      "(7680, 128, 128, 3)\n"
     ]
    }
   ],
   "source": [
    "print(train_data.shape)\n",
    "print(valid_data.shape)\n",
    "print(test_data.shape)"
   ]
  },
  {
   "cell_type": "code",
   "execution_count": 15,
   "metadata": {},
   "outputs": [
    {
     "name": "stdout",
     "output_type": "stream",
     "text": [
      "Found 15469 images belonging to 256 classes.\n",
      "Found 6631 images belonging to 256 classes.\n",
      "Found 0 images belonging to 0 classes.\n"
     ]
    }
   ],
   "source": [
    "batch_size = 16\n",
    "\n",
    "train_datagen = ImageDataGenerator(\n",
    "        rescale=1./255,\n",
    "        rotation_range=20,\n",
    "        shear_range=0.1,\n",
    "        zoom_range=0.1,\n",
    "        width_shift_range=0.1,\n",
    "        height_shift_range=0.1,\n",
    "        horizontal_flip=True)\n",
    "\n",
    "# only rescaling for test set\n",
    "test_datagen = ImageDataGenerator(rescale=1./255)\n",
    "\n",
    "# this is a generator that will read pictures found in\n",
    "# subfolers of 'data/train', and indefinitely generate\n",
    "# batches of augmented image data\n",
    "train_generator = train_datagen.flow_from_directory(\n",
    "        'prepnorm64/train',  # this is the target directory\n",
    "        target_size=(ROWS, COLS),  # all images will be resized to 150x150\n",
    "        batch_size=batch_size,\n",
    "        class_mode='categorical')  # since we use binary_crossentropy loss, we need binary labels\n",
    "\n",
    "# this is a similar generator, for validation data\n",
    "validation_generator = train_datagen.flow_from_directory(\n",
    "        'prepnorm64/val',\n",
    "        target_size=(ROWS, COLS),\n",
    "        batch_size=batch_size,\n",
    "        class_mode='categorical')\n",
    "\n",
    "test_generator = test_datagen.flow_from_directory(\n",
    "    'prepnorm64/test',\n",
    "    target_size=(ROWS, COLS),\n",
    "    class_mode=None,\n",
    "    batch_size=64,\n",
    "    shuffle=False)"
   ]
  },
  {
   "cell_type": "code",
   "execution_count": 23,
   "metadata": {},
   "outputs": [
    {
     "name": "stdout",
     "output_type": "stream",
     "text": [
      "_________________________________________________________________\n",
      "Layer (type)                 Output Shape              Param #   \n",
      "=================================================================\n",
      "conv2d_17 (Conv2D)           (None, 128, 128, 16)      448       \n",
      "_________________________________________________________________\n",
      "conv2d_18 (Conv2D)           (None, 128, 128, 16)      2320      \n",
      "_________________________________________________________________\n",
      "max_pooling2d_9 (MaxPooling2 (None, 64, 64, 16)        0         \n",
      "_________________________________________________________________\n",
      "batch_normalization_9 (Batch (None, 64, 64, 16)        48        \n",
      "_________________________________________________________________\n",
      "dropout_11 (Dropout)         (None, 64, 64, 16)        0         \n",
      "_________________________________________________________________\n",
      "conv2d_19 (Conv2D)           (None, 64, 64, 32)        4640      \n",
      "_________________________________________________________________\n",
      "conv2d_20 (Conv2D)           (None, 64, 64, 32)        9248      \n",
      "_________________________________________________________________\n",
      "max_pooling2d_10 (MaxPooling (None, 32, 32, 32)        0         \n",
      "_________________________________________________________________\n",
      "batch_normalization_10 (Batc (None, 32, 32, 32)        96        \n",
      "_________________________________________________________________\n",
      "dropout_12 (Dropout)         (None, 32, 32, 32)        0         \n",
      "_________________________________________________________________\n",
      "conv2d_21 (Conv2D)           (None, 32, 32, 64)        18496     \n",
      "_________________________________________________________________\n",
      "conv2d_22 (Conv2D)           (None, 32, 32, 64)        36928     \n",
      "_________________________________________________________________\n",
      "max_pooling2d_11 (MaxPooling (None, 16, 16, 64)        0         \n",
      "_________________________________________________________________\n",
      "batch_normalization_11 (Batc (None, 16, 16, 64)        192       \n",
      "_________________________________________________________________\n",
      "dropout_13 (Dropout)         (None, 16, 16, 64)        0         \n",
      "_________________________________________________________________\n",
      "conv2d_23 (Conv2D)           (None, 16, 16, 128)       73856     \n",
      "_________________________________________________________________\n",
      "conv2d_24 (Conv2D)           (None, 16, 16, 128)       147584    \n",
      "_________________________________________________________________\n",
      "max_pooling2d_12 (MaxPooling (None, 8, 8, 128)         0         \n",
      "_________________________________________________________________\n",
      "batch_normalization_12 (Batc (None, 8, 8, 128)         384       \n",
      "_________________________________________________________________\n",
      "dropout_14 (Dropout)         (None, 8, 8, 128)         0         \n",
      "_________________________________________________________________\n",
      "global_average_pooling2d_3 ( (None, 128)               0         \n",
      "_________________________________________________________________\n",
      "dropout_15 (Dropout)         (None, 128)               0         \n",
      "_________________________________________________________________\n",
      "dense_5 (Dense)              (None, 512)               66048     \n",
      "_________________________________________________________________\n",
      "dense_6 (Dense)              (None, 256)               131328    \n",
      "=================================================================\n",
      "Total params: 491,616.0\n",
      "Trainable params: 491,136.0\n",
      "Non-trainable params: 480.0\n",
      "_________________________________________________________________\n"
     ]
    }
   ],
   "source": [
    "from keras.layers import Conv2D, MaxPooling2D, GlobalAveragePooling2D\n",
    "from keras.layers import Dropout, Flatten, Dense, BatchNormalization\n",
    "from keras.models import Sequential\n",
    "\n",
    "model = Sequential()\n",
    "\n",
    "model.add(Conv2D(filters=16, kernel_size=3, padding='same', activation='elu', \n",
    "                        input_shape=(resize[0], resize[1], CHANNELS)))\n",
    "model.add(Conv2D(filters=16, kernel_size=3, padding='same', activation='elu'))\n",
    "model.add(MaxPooling2D(pool_size=2))\n",
    "model.add(BatchNormalization(scale = False))\n",
    "model.add(Dropout(0.4))\n",
    "model.add(Conv2D(filters=32, kernel_size=3, padding='same', activation='elu'))\n",
    "model.add(Conv2D(filters=32, kernel_size=3, padding='same', activation='elu'))\n",
    "model.add(MaxPooling2D(pool_size=2))\n",
    "model.add(BatchNormalization(scale = False))\n",
    "model.add(Dropout(0.4))\n",
    "model.add(Conv2D(filters=64, kernel_size=3, padding='same', activation='elu'))\n",
    "model.add(Conv2D(filters=64, kernel_size=3, padding='same', activation='elu'))\n",
    "model.add(MaxPooling2D(pool_size=2))\n",
    "model.add(BatchNormalization(scale = False))\n",
    "model.add(Dropout(0.4))\n",
    "model.add(Conv2D(filters=128, kernel_size=3, padding='same', activation='elu'))\n",
    "model.add(Conv2D(filters=128, kernel_size=3, padding='same', activation='elu'))\n",
    "model.add(MaxPooling2D(pool_size=2))\n",
    "model.add(BatchNormalization(scale = False))\n",
    "model.add(Dropout(0.4))\n",
    "model.add(GlobalAveragePooling2D())\n",
    "#model.add(Dense(1024, activation='relu'))\n",
    "model.add(Dropout(0.4))\n",
    "model.add(Dense(512, activation='elu'))\n",
    "model.add(Dense(256, activation='softmax'))\n",
    "\n",
    "model.summary()"
   ]
  },
  {
   "cell_type": "code",
   "execution_count": 24,
   "metadata": {
    "collapsed": true
   },
   "outputs": [],
   "source": [
    "model.compile(optimizer='adam', loss='categorical_crossentropy', metrics=['accuracy'])"
   ]
  },
  {
   "cell_type": "code",
   "execution_count": 25,
   "metadata": {
    "collapsed": true
   },
   "outputs": [],
   "source": [
    "from keras.callbacks import ModelCheckpoint, ReduceLROnPlateau, EarlyStopping\n",
    "\n",
    "epochs = 40\n",
    "\n",
    "checkpointer = [ModelCheckpoint(filepath='saved_models/normval_128_elu.hdf5', \n",
    "                               verbose=1, save_best_only=True),\n",
    "               ReduceLROnPlateau(verbose=1, patience=3, factor = 0.1), \n",
    "               EarlyStopping(verbose=1, patience=5, monitor='val_loss')]\n",
    "\n",
    "#model.fit(train, y_train, \n",
    "#          validation_data=(val, y_val),\n",
    "#          epochs=epochs, batch_size=64, callbacks=checkpointer, verbose=1)"
   ]
  },
  {
   "cell_type": "code",
   "execution_count": 26,
   "metadata": {},
   "outputs": [
    {
     "name": "stdout",
     "output_type": "stream",
     "text": [
      "Epoch 1/40\n",
      "965/967 [============================>.] - ETA: 0s - loss: 5.2371 - acc: 0.0645Epoch 00000: val_loss improved from inf to 5.06676, saving model to saved_models/normval_128_elu.hdf5\n",
      "967/967 [==============================] - 58s - loss: 5.2358 - acc: 0.0646 - val_loss: 5.0668 - val_acc: 0.0861\n",
      "Epoch 2/40\n",
      "966/967 [============================>.] - ETA: 0s - loss: 4.8086 - acc: 0.1023Epoch 00001: val_loss improved from 5.06676 to 4.58546, saving model to saved_models/normval_128_elu.hdf5\n",
      "967/967 [==============================] - 57s - loss: 4.8091 - acc: 0.1022 - val_loss: 4.5855 - val_acc: 0.1336\n",
      "Epoch 3/40\n",
      "966/967 [============================>.] - ETA: 0s - loss: 4.5727 - acc: 0.1282Epoch 00002: val_loss did not improve\n",
      "967/967 [==============================] - 57s - loss: 4.5722 - acc: 0.1283 - val_loss: 4.6570 - val_acc: 0.1072\n",
      "Epoch 4/40\n",
      "966/967 [============================>.] - ETA: 0s - loss: 4.4127 - acc: 0.1433Epoch 00003: val_loss improved from 4.58546 to 4.41654, saving model to saved_models/normval_128_elu.hdf5\n",
      "967/967 [==============================] - 57s - loss: 4.4127 - acc: 0.1432 - val_loss: 4.4165 - val_acc: 0.1535\n",
      "Epoch 5/40\n",
      "965/967 [============================>.] - ETA: 0s - loss: 4.2884 - acc: 0.1580Epoch 00004: val_loss did not improve\n",
      "967/967 [==============================] - 57s - loss: 4.2879 - acc: 0.1579 - val_loss: 4.4298 - val_acc: 0.1594\n",
      "Epoch 6/40\n",
      "965/967 [============================>.] - ETA: 0s - loss: 4.1979 - acc: 0.1674- ETA: 0s - loss: 4.1976 - acc: 0.167Epoch 00005: val_loss did not improve\n",
      "967/967 [==============================] - 56s - loss: 4.1977 - acc: 0.1674 - val_loss: 4.6814 - val_acc: 0.1490\n",
      "Epoch 7/40\n",
      "965/967 [============================>.] - ETA: 0s - loss: 4.1180 - acc: 0.1802Epoch 00006: val_loss improved from 4.41654 to 4.19440, saving model to saved_models/normval_128_elu.hdf5\n",
      "967/967 [==============================] - 59s - loss: 4.1177 - acc: 0.1804 - val_loss: 4.1944 - val_acc: 0.1861\n",
      "Epoch 8/40\n",
      "965/967 [============================>.] - ETA: 0s - loss: 4.0449 - acc: 0.1883Epoch 00007: val_loss improved from 4.19440 to 4.00802, saving model to saved_models/normval_128_elu.hdf5\n",
      "967/967 [==============================] - 57s - loss: 4.0451 - acc: 0.1882 - val_loss: 4.0080 - val_acc: 0.2146\n",
      "Epoch 9/40\n",
      "966/967 [============================>.] - ETA: 0s - loss: 3.9863 - acc: 0.1910Epoch 00008: val_loss improved from 4.00802 to 3.96449, saving model to saved_models/normval_128_elu.hdf5\n",
      "967/967 [==============================] - 58s - loss: 3.9859 - acc: 0.1911 - val_loss: 3.9645 - val_acc: 0.2078\n",
      "Epoch 10/40\n",
      "965/967 [============================>.] - ETA: 0s - loss: 3.9209 - acc: 0.2046Epoch 00009: val_loss did not improve\n",
      "967/967 [==============================] - 57s - loss: 3.9205 - acc: 0.2047 - val_loss: 4.2774 - val_acc: 0.1906\n",
      "Epoch 11/40\n",
      "965/967 [============================>.] - ETA: 0s - loss: 3.8670 - acc: 0.2133Epoch 00010: val_loss did not improve\n",
      "967/967 [==============================] - 57s - loss: 3.8667 - acc: 0.2131 - val_loss: 4.3366 - val_acc: 0.1906\n",
      "Epoch 12/40\n",
      "965/967 [============================>.] - ETA: 0s - loss: 3.8112 - acc: 0.2165Epoch 00011: val_loss improved from 3.96449 to 3.87282, saving model to saved_models/normval_128_elu.hdf5\n",
      "967/967 [==============================] - 58s - loss: 3.8107 - acc: 0.2165 - val_loss: 3.8728 - val_acc: 0.2325\n",
      "Epoch 13/40\n",
      "965/967 [============================>.] - ETA: 0s - loss: 3.7621 - acc: 0.2272Epoch 00012: val_loss improved from 3.87282 to 3.77226, saving model to saved_models/normval_128_elu.hdf5\n",
      "967/967 [==============================] - 57s - loss: 3.7627 - acc: 0.2268 - val_loss: 3.7723 - val_acc: 0.2422\n",
      "Epoch 14/40\n",
      "965/967 [============================>.] - ETA: 0s - loss: 3.7090 - acc: 0.2322Epoch 00013: val_loss improved from 3.77226 to 3.59063, saving model to saved_models/normval_128_elu.hdf5\n",
      "967/967 [==============================] - 58s - loss: 3.7085 - acc: 0.2322 - val_loss: 3.5906 - val_acc: 0.2701\n",
      "Epoch 15/40\n",
      "966/967 [============================>.] - ETA: 0s - loss: 3.6677 - acc: 0.2380Epoch 00014: val_loss did not improve\n",
      "967/967 [==============================] - 57s - loss: 3.6671 - acc: 0.2381 - val_loss: 3.9405 - val_acc: 0.2401\n",
      "Epoch 16/40\n",
      "966/967 [============================>.] - ETA: 0s - loss: 3.6427 - acc: 0.2413Epoch 00015: val_loss did not improve\n",
      "967/967 [==============================] - 57s - loss: 3.6419 - acc: 0.2413 - val_loss: 3.7589 - val_acc: 0.2482\n",
      "Epoch 17/40\n",
      "965/967 [============================>.] - ETA: 0s - loss: 3.6085 - acc: 0.2460Epoch 00016: val_loss did not improve\n",
      "967/967 [==============================] - 57s - loss: 3.6070 - acc: 0.2462 - val_loss: 3.9703 - val_acc: 0.2479\n",
      "Epoch 18/40\n",
      "966/967 [============================>.] - ETA: 0s - loss: 3.5637 - acc: 0.2551Epoch 00017: val_loss did not improve\n",
      "\n",
      "Epoch 00017: reducing learning rate to 0.00010000000474974513.\n",
      "967/967 [==============================] - 57s - loss: 3.5638 - acc: 0.2550 - val_loss: 3.9188 - val_acc: 0.2475\n",
      "Epoch 19/40\n",
      "965/967 [============================>.] - ETA: 0s - loss: 3.3545 - acc: 0.2827Epoch 00018: val_loss did not improve\n",
      "967/967 [==============================] - 56s - loss: 3.3553 - acc: 0.2826 - val_loss: 3.6350 - val_acc: 0.2819\n",
      "Epoch 20/40\n",
      "966/967 [============================>.] - ETA: 0s - loss: 3.2929 - acc: 0.2933Epoch 00019: val_loss did not improve\n",
      "967/967 [==============================] - 57s - loss: 3.2918 - acc: 0.2935 - val_loss: 3.6627 - val_acc: 0.2823\n",
      "Epoch 00019: early stopping\n"
     ]
    },
    {
     "data": {
      "text/plain": [
       "<keras.callbacks.History at 0x7fadc2620240>"
      ]
     },
     "execution_count": 26,
     "metadata": {},
     "output_type": "execute_result"
    }
   ],
   "source": [
    "model.fit_generator(\n",
    "        train_generator,\n",
    "        steps_per_epoch=len(train_data) // batch_size +1,\n",
    "        epochs=epochs,\n",
    "        validation_data=validation_generator,\n",
    "        validation_steps=len(valid_data) // batch_size+1, callbacks=checkpointer, verbose=1)"
   ]
  },
  {
   "cell_type": "code",
   "execution_count": 28,
   "metadata": {
    "collapsed": true
   },
   "outputs": [],
   "source": [
    "model.save(\"model_128_elu.h5\")"
   ]
  },
  {
   "cell_type": "code",
   "execution_count": 29,
   "metadata": {},
   "outputs": [
    {
     "name": "stdout",
     "output_type": "stream",
     "text": [
      "Validation accuracy: 29.56%\n"
     ]
    }
   ],
   "source": [
    "model.load_weights('saved_models/normval_128_elu.hdf5')\n",
    "predictions = [np.argmax(model.predict(np.expand_dims(feature, axis=0))) for feature in valid_data]\n",
    "# get val accuracy\n",
    "val_accuracy = 100*np.sum(np.array(predictions)==np.argmax(y_val, axis=1))/len(predictions)\n",
    "print('Validation accuracy: %.2f%%' % val_accuracy)"
   ]
  },
  {
   "cell_type": "code",
   "execution_count": 15,
   "metadata": {},
   "outputs": [
    {
     "name": "stdout",
     "output_type": "stream",
     "text": [
      "Validation accuracy: 44.20%\n"
     ]
    }
   ],
   "source": [
    "model.load_weights('saved_models/normval64_new.hdf5')\n",
    "predictions = [np.argmax(model.predict(np.expand_dims(feature, axis=0))) for feature in valid_data]\n",
    "# get val accuracy\n",
    "val_accuracy = 100*np.sum(np.array(predictions)==np.argmax(y_val, axis=1))/len(predictions)\n",
    "print('Validation accuracy: %.2f%%' % val_accuracy)"
   ]
  },
  {
   "cell_type": "code",
   "execution_count": 16,
   "metadata": {
    "collapsed": true
   },
   "outputs": [],
   "source": [
    "predictions_test = [1+np.argmax(model.predict(np.expand_dims(feature, axis=0))) for feature in test_data]"
   ]
  },
  {
   "cell_type": "code",
   "execution_count": 17,
   "metadata": {},
   "outputs": [
    {
     "data": {
      "text/html": [
       "<div>\n",
       "<style>\n",
       "    .dataframe thead tr:only-child th {\n",
       "        text-align: right;\n",
       "    }\n",
       "\n",
       "    .dataframe thead th {\n",
       "        text-align: left;\n",
       "    }\n",
       "\n",
       "    .dataframe tbody tr th {\n",
       "        vertical-align: top;\n",
       "    }\n",
       "</style>\n",
       "<table border=\"1\" class=\"dataframe\">\n",
       "  <thead>\n",
       "    <tr style=\"text-align: right;\">\n",
       "      <th></th>\n",
       "      <th>image</th>\n",
       "      <th>class</th>\n",
       "    </tr>\n",
       "  </thead>\n",
       "  <tbody>\n",
       "    <tr>\n",
       "      <th>0</th>\n",
       "      <td>16800.jpg</td>\n",
       "      <td>256</td>\n",
       "    </tr>\n",
       "    <tr>\n",
       "      <th>1</th>\n",
       "      <td>19320.jpg</td>\n",
       "      <td>171</td>\n",
       "    </tr>\n",
       "    <tr>\n",
       "      <th>2</th>\n",
       "      <td>21505.jpg</td>\n",
       "      <td>203</td>\n",
       "    </tr>\n",
       "    <tr>\n",
       "      <th>3</th>\n",
       "      <td>11014.jpg</td>\n",
       "      <td>94</td>\n",
       "    </tr>\n",
       "    <tr>\n",
       "      <th>4</th>\n",
       "      <td>10790.jpg</td>\n",
       "      <td>90</td>\n",
       "    </tr>\n",
       "  </tbody>\n",
       "</table>\n",
       "</div>"
      ],
      "text/plain": [
       "       image  class\n",
       "0  16800.jpg    256\n",
       "1  19320.jpg    171\n",
       "2  21505.jpg    203\n",
       "3  11014.jpg     94\n",
       "4  10790.jpg     90"
      ]
     },
     "execution_count": 17,
     "metadata": {},
     "output_type": "execute_result"
    }
   ],
   "source": [
    "image = [item.split('/')[2] for item in test_files]\n",
    "submission = pd.DataFrame(\n",
    "    {'image': image,\n",
    "     'class': predictions_test\n",
    "    })\n",
    "submission = submission[['image','class']]\n",
    "submission.head()"
   ]
  },
  {
   "cell_type": "code",
   "execution_count": 18,
   "metadata": {
    "collapsed": true
   },
   "outputs": [],
   "source": [
    "submission.to_csv('submissions/keras_unknown.csv', index = False)"
   ]
  },
  {
   "cell_type": "code",
   "execution_count": 39,
   "metadata": {
    "collapsed": true
   },
   "outputs": [],
   "source": [
    "#keras_aug1.hdf5 - 28.17%\n",
    "#keras_aug2.hdf5 - 29.08% - 3 conv layers\n",
    "#normval64.hdf5 - 38.34%\n",
    "#unival64.hdf5 - 13.77%\n",
    "#normval64_new.hdf5 - 35.70%\n",
    "#unival_13.hdf5 - 22.06%"
   ]
  },
  {
   "cell_type": "code",
   "execution_count": 19,
   "metadata": {},
   "outputs": [
    {
     "data": {
      "text/plain": [
       "2"
      ]
     },
     "execution_count": 19,
     "metadata": {},
     "output_type": "execute_result"
    }
   ],
   "source": [
    "1+1"
   ]
  },
  {
   "cell_type": "code",
   "execution_count": null,
   "metadata": {
    "collapsed": true
   },
   "outputs": [],
   "source": []
  },
  {
   "cell_type": "code",
   "execution_count": null,
   "metadata": {
    "collapsed": true
   },
   "outputs": [],
   "source": []
  }
 ],
 "metadata": {
  "kernelspec": {
   "display_name": "Python 3",
   "language": "python",
   "name": "python3"
  },
  "language_info": {
   "codemirror_mode": {
    "name": "ipython",
    "version": 3
   },
   "file_extension": ".py",
   "mimetype": "text/x-python",
   "name": "python",
   "nbconvert_exporter": "python",
   "pygments_lexer": "ipython3",
   "version": "3.6.1"
  }
 },
 "nbformat": 4,
 "nbformat_minor": 2
}
