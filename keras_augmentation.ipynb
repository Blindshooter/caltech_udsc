{
 "cells": [
  {
   "cell_type": "markdown",
   "metadata": {},
   "source": [
    "## Full Keras with augmentation"
   ]
  },
  {
   "cell_type": "code",
   "execution_count": 1,
   "metadata": {
    "collapsed": true
   },
   "outputs": [],
   "source": [
    "import os\n",
    "os.environ[\"CUDA_DEVICE_ORDER\"] = \"PCI_BUS_ID\"\n",
    "os.environ[\"CUDA_VISIBLE_DEVICES\"] = \"0\""
   ]
  },
  {
   "cell_type": "code",
   "execution_count": 2,
   "metadata": {
    "collapsed": true
   },
   "outputs": [],
   "source": [
    "import numpy as np\n",
    "import pandas as pd\n",
    "import matplotlib.pyplot as plt\n",
    "\n",
    "import skimage \n",
    "from scipy import ndimage, misc"
   ]
  },
  {
   "cell_type": "code",
   "execution_count": 3,
   "metadata": {},
   "outputs": [],
   "source": [
    "import cv2\n",
    "def plot_image(file_path):\n",
    "    \"\"\" Print image from file 'file_path' \"\"\"\n",
    "    img = cv2.imread(file_path)\n",
    "    cv_rgb = cv2.cvtColor(img, cv2.COLOR_BGR2RGB)\n",
    "    plt.imshow(cv_rgb)\n",
    "    plt.show()"
   ]
  },
  {
   "cell_type": "code",
   "execution_count": 49,
   "metadata": {},
   "outputs": [],
   "source": [
    "from keras.utils import np_utils\n",
    "from sklearn.datasets import load_files\n",
    "\n",
    "data = load_files('prep13/train')\n",
    "caltech_files_train = np.array(data['filenames'])\n",
    "caltech_targets_train = np.array(data['target'])\n",
    "\n",
    "data_val = load_files('prep13/val')\n",
    "caltech_files_val = np.array(data_val['filenames'])\n",
    "caltech_targets_val = np.array(data_val['target'])\n",
    "\n",
    "X_train, X_val = caltech_files_train, caltech_files_val\n",
    "y_train_class, y_val_class = caltech_targets_train, caltech_targets_val\n",
    "y_train = np_utils.to_categorical(y_train_class, 256)\n",
    "y_val = np_utils.to_categorical(y_val_class, 256)\n",
    "\n",
    "del data, data_val, caltech_files_train, caltech_targets_train, caltech_files_val, caltech_targets_val"
   ]
  },
  {
   "cell_type": "code",
   "execution_count": 50,
   "metadata": {
    "collapsed": true
   },
   "outputs": [],
   "source": [
    "test_files = ['prep13/test/'+ file for file in os.listdir('prep13/test')]\n",
    "#test_files[:5]"
   ]
  },
  {
   "cell_type": "code",
   "execution_count": 52,
   "metadata": {
    "collapsed": true
   },
   "outputs": [],
   "source": [
    "from keras.preprocessing.image import ImageDataGenerator, array_to_img, img_to_array, load_img\n",
    "\n",
    "resize = (64, 64)\n",
    "\n",
    "CHANNELS = 3\n",
    "ROWS = resize[0]\n",
    "COLS = resize[1]\n",
    "mean = 135\n",
    "\n",
    "datagen = ImageDataGenerator(\n",
    "        rotation_range=40,\n",
    "        width_shift_range=0.1,\n",
    "        height_shift_range=0.1,\n",
    "        shear_range=0.1,\n",
    "        zoom_range=0.1,\n",
    "        horizontal_flip=True,\n",
    "        fill_mode='nearest')"
   ]
  },
  {
   "cell_type": "markdown",
   "metadata": {},
   "source": [
    "## Data load and resize"
   ]
  },
  {
   "cell_type": "code",
   "execution_count": 53,
   "metadata": {},
   "outputs": [],
   "source": [
    "from keras.preprocessing import image                  \n",
    "from tqdm import tqdm\n",
    "\n",
    "def path_to_tensor(img_path, resize = resize):\n",
    "    # loads RGB image as PIL.Image.Image type\n",
    "    img = image.load_img(img_path, target_size=resize)\n",
    "    # convert PIL.Image.Image type to 3D tensor with shape (224, 224, 3)\n",
    "    x = image.img_to_array(img)\n",
    "    # convert 3D tensor to 4D tensor with shape (1, 224, 224, 3) and return 4D tensor\n",
    "    return np.expand_dims(x, axis=0)\n",
    "\n",
    "def paths_to_tensor(img_paths, resize = resize):\n",
    "    list_of_tensors = [path_to_tensor(img_path, resize) for img_path in tqdm(img_paths)]\n",
    "    return np.vstack(list_of_tensors)"
   ]
  },
  {
   "cell_type": "code",
   "execution_count": 54,
   "metadata": {},
   "outputs": [
    {
     "name": "stderr",
     "output_type": "stream",
     "text": [
      "100%|██████████| 18772/18772 [00:04<00:00, 3963.19it/s]\n"
     ]
    }
   ],
   "source": [
    "from PIL import ImageFile                            \n",
    "ImageFile.LOAD_TRUNCATED_IMAGES = True                 \n",
    "\n",
    "# pre-process the data for Keras\n",
    "train_data = paths_to_tensor(X_train, resize)/255"
   ]
  },
  {
   "cell_type": "code",
   "execution_count": 55,
   "metadata": {},
   "outputs": [
    {
     "name": "stderr",
     "output_type": "stream",
     "text": [
      "100%|██████████| 3328/3328 [00:02<00:00, 1402.53it/s]\n"
     ]
    }
   ],
   "source": [
    "valid_data = paths_to_tensor(X_val, resize)/255"
   ]
  },
  {
   "cell_type": "code",
   "execution_count": 56,
   "metadata": {},
   "outputs": [
    {
     "name": "stderr",
     "output_type": "stream",
     "text": [
      "100%|██████████| 7680/7680 [00:01<00:00, 4292.49it/s]\n"
     ]
    }
   ],
   "source": [
    "test_data = paths_to_tensor(test_files, resize)/255"
   ]
  },
  {
   "cell_type": "code",
   "execution_count": 57,
   "metadata": {},
   "outputs": [
    {
     "name": "stdout",
     "output_type": "stream",
     "text": [
      "(18772, 64, 64, 3)\n",
      "(3328, 64, 64, 3)\n",
      "(7680, 64, 64, 3)\n"
     ]
    }
   ],
   "source": [
    "print(train_data.shape)\n",
    "print(valid_data.shape)\n",
    "print(test_data.shape)"
   ]
  },
  {
   "cell_type": "code",
   "execution_count": 58,
   "metadata": {},
   "outputs": [
    {
     "name": "stdout",
     "output_type": "stream",
     "text": [
      "Found 18772 images belonging to 256 classes.\n",
      "Found 3328 images belonging to 256 classes.\n",
      "Found 0 images belonging to 0 classes.\n"
     ]
    }
   ],
   "source": [
    "batch_size = 16\n",
    "\n",
    "train_datagen = ImageDataGenerator(\n",
    "        rescale=1./255,\n",
    "        rotation_range=20,\n",
    "        shear_range=0.1,\n",
    "        zoom_range=0.1,\n",
    "        width_shift_range=0.1,\n",
    "        height_shift_range=0.1,\n",
    "        horizontal_flip=True)\n",
    "\n",
    "# only rescaling for test set\n",
    "test_datagen = ImageDataGenerator(rescale=1./255)\n",
    "\n",
    "# this is a generator that will read pictures found in\n",
    "# subfolers of 'data/train', and indefinitely generate\n",
    "# batches of augmented image data\n",
    "train_generator = train_datagen.flow_from_directory(\n",
    "        'prep13/train',  # this is the target directory\n",
    "        target_size=(ROWS, COLS),  # all images will be resized to 150x150\n",
    "        batch_size=batch_size,\n",
    "        class_mode='categorical')  # since we use binary_crossentropy loss, we need binary labels\n",
    "\n",
    "# this is a similar generator, for validation data\n",
    "validation_generator = train_datagen.flow_from_directory(\n",
    "        'prep13/val',\n",
    "        target_size=(ROWS, COLS),\n",
    "        batch_size=batch_size,\n",
    "        class_mode='categorical')\n",
    "\n",
    "test_generator = test_datagen.flow_from_directory(\n",
    "    'prep13/test',\n",
    "    target_size=(64, 64),\n",
    "    class_mode=None,\n",
    "    batch_size=64,\n",
    "    shuffle=False)"
   ]
  },
  {
   "cell_type": "code",
   "execution_count": 59,
   "metadata": {},
   "outputs": [
    {
     "name": "stdout",
     "output_type": "stream",
     "text": [
      "_________________________________________________________________\n",
      "Layer (type)                 Output Shape              Param #   \n",
      "=================================================================\n",
      "conv2d_25 (Conv2D)           (None, 64, 64, 16)        448       \n",
      "_________________________________________________________________\n",
      "conv2d_26 (Conv2D)           (None, 64, 64, 16)        2320      \n",
      "_________________________________________________________________\n",
      "max_pooling2d_13 (MaxPooling (None, 32, 32, 16)        0         \n",
      "_________________________________________________________________\n",
      "batch_normalization_13 (Batc (None, 32, 32, 16)        48        \n",
      "_________________________________________________________________\n",
      "dropout_13 (Dropout)         (None, 32, 32, 16)        0         \n",
      "_________________________________________________________________\n",
      "conv2d_27 (Conv2D)           (None, 32, 32, 32)        4640      \n",
      "_________________________________________________________________\n",
      "conv2d_28 (Conv2D)           (None, 32, 32, 32)        9248      \n",
      "_________________________________________________________________\n",
      "max_pooling2d_14 (MaxPooling (None, 16, 16, 32)        0         \n",
      "_________________________________________________________________\n",
      "batch_normalization_14 (Batc (None, 16, 16, 32)        96        \n",
      "_________________________________________________________________\n",
      "dropout_14 (Dropout)         (None, 16, 16, 32)        0         \n",
      "_________________________________________________________________\n",
      "conv2d_29 (Conv2D)           (None, 16, 16, 64)        18496     \n",
      "_________________________________________________________________\n",
      "conv2d_30 (Conv2D)           (None, 16, 16, 64)        36928     \n",
      "_________________________________________________________________\n",
      "max_pooling2d_15 (MaxPooling (None, 8, 8, 64)          0         \n",
      "_________________________________________________________________\n",
      "batch_normalization_15 (Batc (None, 8, 8, 64)          192       \n",
      "_________________________________________________________________\n",
      "dropout_15 (Dropout)         (None, 8, 8, 64)          0         \n",
      "_________________________________________________________________\n",
      "conv2d_31 (Conv2D)           (None, 8, 8, 128)         73856     \n",
      "_________________________________________________________________\n",
      "conv2d_32 (Conv2D)           (None, 8, 8, 128)         147584    \n",
      "_________________________________________________________________\n",
      "max_pooling2d_16 (MaxPooling (None, 4, 4, 128)         0         \n",
      "_________________________________________________________________\n",
      "batch_normalization_16 (Batc (None, 4, 4, 128)         384       \n",
      "_________________________________________________________________\n",
      "dropout_16 (Dropout)         (None, 4, 4, 128)         0         \n",
      "_________________________________________________________________\n",
      "global_average_pooling2d_4 ( (None, 128)               0         \n",
      "_________________________________________________________________\n",
      "dense_7 (Dense)              (None, 512)               66048     \n",
      "_________________________________________________________________\n",
      "dense_8 (Dense)              (None, 256)               131328    \n",
      "=================================================================\n",
      "Total params: 491,616.0\n",
      "Trainable params: 491,136.0\n",
      "Non-trainable params: 480.0\n",
      "_________________________________________________________________\n"
     ]
    }
   ],
   "source": [
    "from keras.layers import Conv2D, MaxPooling2D, GlobalAveragePooling2D\n",
    "from keras.layers import Dropout, Flatten, Dense, BatchNormalization\n",
    "from keras.models import Sequential\n",
    "\n",
    "model = Sequential()\n",
    "\n",
    "model.add(Conv2D(filters=16, kernel_size=3, padding='same', activation='relu', \n",
    "                        input_shape=(resize[0], resize[1], CHANNELS)))\n",
    "model.add(Conv2D(filters=16, kernel_size=3, padding='same', activation='relu'))\n",
    "model.add(MaxPooling2D(pool_size=2))\n",
    "model.add(BatchNormalization(scale = False))\n",
    "model.add(Dropout(0.4))\n",
    "model.add(Conv2D(filters=32, kernel_size=3, padding='same', activation='relu'))\n",
    "model.add(Conv2D(filters=32, kernel_size=3, padding='same', activation='relu'))\n",
    "model.add(MaxPooling2D(pool_size=2))\n",
    "model.add(BatchNormalization(scale = False))\n",
    "model.add(Dropout(0.4))\n",
    "model.add(Conv2D(filters=64, kernel_size=3, padding='same', activation='relu'))\n",
    "model.add(Conv2D(filters=64, kernel_size=3, padding='same', activation='relu'))\n",
    "model.add(MaxPooling2D(pool_size=2))\n",
    "model.add(BatchNormalization(scale = False))\n",
    "model.add(Dropout(0.4))\n",
    "model.add(Conv2D(filters=128, kernel_size=3, padding='same', activation='relu'))\n",
    "model.add(Conv2D(filters=128, kernel_size=3, padding='same', activation='relu'))\n",
    "model.add(MaxPooling2D(pool_size=2))\n",
    "model.add(BatchNormalization(scale = False))\n",
    "model.add(Dropout(0.4))\n",
    "model.add(GlobalAveragePooling2D())\n",
    "model.add(Dense(512, activation='relu'))\n",
    "model.add(Dense(256, activation='softmax'))\n",
    "\n",
    "model.summary()"
   ]
  },
  {
   "cell_type": "code",
   "execution_count": 60,
   "metadata": {
    "collapsed": true
   },
   "outputs": [],
   "source": [
    "model.compile(optimizer='adam', loss='categorical_crossentropy', metrics=['accuracy'])"
   ]
  },
  {
   "cell_type": "code",
   "execution_count": 61,
   "metadata": {
    "collapsed": true
   },
   "outputs": [],
   "source": [
    "from keras.callbacks import ModelCheckpoint, ReduceLROnPlateau, EarlyStopping\n",
    "\n",
    "epochs = 30\n",
    "\n",
    "checkpointer = [ModelCheckpoint(filepath='saved_models/unival13_new.hdf5', \n",
    "                               verbose=1, save_best_only=True),\n",
    "               ReduceLROnPlateau(verbose=1, patience=3, factor = 0.1), \n",
    "               EarlyStopping(verbose=1, patience=5, monitor='val_loss')]\n",
    "\n",
    "#model.fit(train, y_train, \n",
    "#          validation_data=(val, y_val),\n",
    "#          epochs=epochs, batch_size=64, callbacks=checkpointer, verbose=1)"
   ]
  },
  {
   "cell_type": "code",
   "execution_count": 62,
   "metadata": {},
   "outputs": [
    {
     "name": "stdout",
     "output_type": "stream",
     "text": [
      "Epoch 1/30\n",
      "1172/1174 [============================>.] - ETA: 0s - loss: 4.9539 - acc: 0.0970Epoch 00000: val_loss improved from inf to 5.59558, saving model to saved_models/unival13_new.hdf5\n",
      "1174/1174 [==============================] - 24s - loss: 4.9535 - acc: 0.0969 - val_loss: 5.5956 - val_acc: 0.0329\n",
      "Epoch 2/30\n",
      "1172/1174 [============================>.] - ETA: 0s - loss: 4.5290 - acc: 0.1377Epoch 00001: val_loss improved from 5.59558 to 5.17735, saving model to saved_models/unival13_new.hdf5\n",
      "1174/1174 [==============================] - 24s - loss: 4.5299 - acc: 0.1378 - val_loss: 5.1774 - val_acc: 0.0574\n",
      "Epoch 3/30\n",
      "1173/1174 [============================>.] - ETA: 0s - loss: 4.2699 - acc: 0.1628Epoch 00002: val_loss improved from 5.17735 to 5.00638, saving model to saved_models/unival13_new.hdf5\n",
      "1174/1174 [==============================] - 24s - loss: 4.2708 - acc: 0.1627 - val_loss: 5.0064 - val_acc: 0.0682\n",
      "Epoch 4/30\n",
      "1171/1174 [============================>.] - ETA: 0s - loss: 4.0745 - acc: 0.1892Epoch 00003: val_loss improved from 5.00638 to 4.88291, saving model to saved_models/unival13_new.hdf5\n",
      "1174/1174 [==============================] - 24s - loss: 4.0744 - acc: 0.1892 - val_loss: 4.8829 - val_acc: 0.0921\n",
      "Epoch 5/30\n",
      "1172/1174 [============================>.] - ETA: 0s - loss: 3.9052 - acc: 0.2068Epoch 00004: val_loss did not improve\n",
      "1174/1174 [==============================] - 23s - loss: 3.9060 - acc: 0.2067 - val_loss: 4.8872 - val_acc: 0.0870\n",
      "Epoch 6/30\n",
      "1171/1174 [============================>.] - ETA: 0s - loss: 3.7679 - acc: 0.2256Epoch 00005: val_loss improved from 4.88291 to 4.49496, saving model to saved_models/unival13_new.hdf5\n",
      "1174/1174 [==============================] - 24s - loss: 3.7678 - acc: 0.2257 - val_loss: 4.4950 - val_acc: 0.1175\n",
      "Epoch 7/30\n",
      "1172/1174 [============================>.] - ETA: 0s - loss: 3.6542 - acc: 0.2399Epoch 00006: val_loss improved from 4.49496 to 4.30403, saving model to saved_models/unival13_new.hdf5\n",
      "1174/1174 [==============================] - 24s - loss: 3.6551 - acc: 0.2399 - val_loss: 4.3040 - val_acc: 0.1408\n",
      "Epoch 8/30\n",
      "1173/1174 [============================>.] - ETA: 0s - loss: 3.5349 - acc: 0.2548Epoch 00007: val_loss did not improve\n",
      "1174/1174 [==============================] - 24s - loss: 3.5353 - acc: 0.2548 - val_loss: 4.4492 - val_acc: 0.1468\n",
      "Epoch 9/30\n",
      "1171/1174 [============================>.] - ETA: 0s - loss: 3.4400 - acc: 0.2701- ETA: 0s - loss: 3.4418 - acc: 0.2Epoch 00008: val_loss improved from 4.30403 to 4.20506, saving model to saved_models/unival13_new.hdf5\n",
      "1174/1174 [==============================] - 24s - loss: 3.4403 - acc: 0.2700 - val_loss: 4.2051 - val_acc: 0.1672\n",
      "Epoch 10/30\n",
      "1171/1174 [============================>.] - ETA: 0s - loss: 3.3628 - acc: 0.2762Epoch 00009: val_loss did not improve\n",
      "1174/1174 [==============================] - 23s - loss: 3.3641 - acc: 0.2761 - val_loss: 4.4222 - val_acc: 0.1486\n",
      "Epoch 11/30\n",
      "1171/1174 [============================>.] - ETA: 0s - loss: 3.2872 - acc: 0.2901Epoch 00010: val_loss did not improve\n",
      "1174/1174 [==============================] - 23s - loss: 3.2872 - acc: 0.2898 - val_loss: 4.2543 - val_acc: 0.1854\n",
      "Epoch 12/30\n",
      "1173/1174 [============================>.] - ETA: 0s - loss: 3.2166 - acc: 0.2980Epoch 00011: val_loss did not improve\n",
      "1174/1174 [==============================] - 24s - loss: 3.2168 - acc: 0.2977 - val_loss: 4.4272 - val_acc: 0.1696\n",
      "Epoch 13/30\n",
      "1171/1174 [============================>.] - ETA: 0s - loss: 3.1384 - acc: 0.3075Epoch 00012: val_loss did not improve\n",
      "\n",
      "Epoch 00012: reducing learning rate to 0.00010000000474974513.\n",
      "1174/1174 [==============================] - 24s - loss: 3.1377 - acc: 0.3074 - val_loss: 4.4472 - val_acc: 0.1746\n",
      "Epoch 14/30\n",
      "1171/1174 [============================>.] - ETA: 0s - loss: 2.8808 - acc: 0.3518Epoch 00013: val_loss improved from 4.20506 to 4.18284, saving model to saved_models/unival13_new.hdf5\n",
      "1174/1174 [==============================] - 24s - loss: 2.8808 - acc: 0.3521 - val_loss: 4.1828 - val_acc: 0.2123\n",
      "Epoch 15/30\n",
      "1170/1174 [============================>.] - ETA: 0s - loss: 2.8151 - acc: 0.3612Epoch 00014: val_loss did not improve\n",
      "1174/1174 [==============================] - 24s - loss: 2.8170 - acc: 0.3608 - val_loss: 4.2707 - val_acc: 0.1995\n",
      "Epoch 16/30\n",
      "1172/1174 [============================>.] - ETA: 0s - loss: 2.7814 - acc: 0.3648Epoch 00015: val_loss did not improve\n",
      "1174/1174 [==============================] - 24s - loss: 2.7817 - acc: 0.3648 - val_loss: 4.2634 - val_acc: 0.2129\n",
      "Epoch 17/30\n",
      "1173/1174 [============================>.] - ETA: 0s - loss: 2.7593 - acc: 0.3707- ETA: 1s - loEpoch 00016: val_loss did not improve\n",
      "1174/1174 [==============================] - 24s - loss: 2.7600 - acc: 0.3706 - val_loss: 4.2709 - val_acc: 0.2066\n",
      "Epoch 18/30\n",
      "1172/1174 [============================>.] - ETA: 0s - loss: 2.7307 - acc: 0.3734Epoch 00017: val_loss did not improve\n",
      "\n",
      "Epoch 00017: reducing learning rate to 1.0000000474974514e-05.\n",
      "1174/1174 [==============================] - 24s - loss: 2.7332 - acc: 0.3731 - val_loss: 4.2385 - val_acc: 0.2051\n",
      "Epoch 19/30\n",
      "1170/1174 [============================>.] - ETA: 0s - loss: 2.7043 - acc: 0.3782Epoch 00018: val_loss did not improve\n",
      "1174/1174 [==============================] - 24s - loss: 2.7055 - acc: 0.3779 - val_loss: 4.2902 - val_acc: 0.2036\n",
      "Epoch 20/30\n",
      "1170/1174 [============================>.] - ETA: 0s - loss: 2.7059 - acc: 0.3763Epoch 00019: val_loss did not improve\n",
      "1174/1174 [==============================] - 24s - loss: 2.7069 - acc: 0.3760 - val_loss: 4.2542 - val_acc: 0.2141\n",
      "Epoch 00019: early stopping\n"
     ]
    },
    {
     "data": {
      "text/plain": [
       "<keras.callbacks.History at 0x7fae1ce46be0>"
      ]
     },
     "execution_count": 62,
     "metadata": {},
     "output_type": "execute_result"
    }
   ],
   "source": [
    "model.fit_generator(\n",
    "        train_generator,\n",
    "        steps_per_epoch=len(train_data) // batch_size +1,\n",
    "        epochs=epochs,\n",
    "        validation_data=validation_generator,\n",
    "        validation_steps=len(valid_data) // batch_size+1, callbacks=checkpointer, verbose=1)"
   ]
  },
  {
   "cell_type": "code",
   "execution_count": 63,
   "metadata": {},
   "outputs": [
    {
     "name": "stdout",
     "output_type": "stream",
     "text": [
      "Validation accuracy: 22.06%\n"
     ]
    }
   ],
   "source": [
    "model.load_weights('saved_models/unival13_new.hdf5')\n",
    "predictions = [np.argmax(model.predict(np.expand_dims(feature, axis=0))) for feature in valid_data]\n",
    "# get val accuracy\n",
    "val_accuracy = 100*np.sum(np.array(predictions)==np.argmax(y_val, axis=1))/len(predictions)\n",
    "print('Validation accuracy: %.2f%%' % val_accuracy)"
   ]
  },
  {
   "cell_type": "code",
   "execution_count": 64,
   "metadata": {
    "collapsed": true
   },
   "outputs": [],
   "source": [
    "predictions_test = [1+np.argmax(model.predict(np.expand_dims(feature, axis=0))) for feature in test_data]"
   ]
  },
  {
   "cell_type": "code",
   "execution_count": 65,
   "metadata": {},
   "outputs": [
    {
     "data": {
      "text/html": [
       "<div>\n",
       "<style>\n",
       "    .dataframe thead tr:only-child th {\n",
       "        text-align: right;\n",
       "    }\n",
       "\n",
       "    .dataframe thead th {\n",
       "        text-align: left;\n",
       "    }\n",
       "\n",
       "    .dataframe tbody tr th {\n",
       "        vertical-align: top;\n",
       "    }\n",
       "</style>\n",
       "<table border=\"1\" class=\"dataframe\">\n",
       "  <thead>\n",
       "    <tr style=\"text-align: right;\">\n",
       "      <th></th>\n",
       "      <th>image</th>\n",
       "      <th>class</th>\n",
       "    </tr>\n",
       "  </thead>\n",
       "  <tbody>\n",
       "    <tr>\n",
       "      <th>0</th>\n",
       "      <td>16800.jpg</td>\n",
       "      <td>148</td>\n",
       "    </tr>\n",
       "    <tr>\n",
       "      <th>1</th>\n",
       "      <td>19320.jpg</td>\n",
       "      <td>161</td>\n",
       "    </tr>\n",
       "    <tr>\n",
       "      <th>2</th>\n",
       "      <td>21505.jpg</td>\n",
       "      <td>203</td>\n",
       "    </tr>\n",
       "    <tr>\n",
       "      <th>3</th>\n",
       "      <td>11014.jpg</td>\n",
       "      <td>21</td>\n",
       "    </tr>\n",
       "    <tr>\n",
       "      <th>4</th>\n",
       "      <td>10790.jpg</td>\n",
       "      <td>253</td>\n",
       "    </tr>\n",
       "  </tbody>\n",
       "</table>\n",
       "</div>"
      ],
      "text/plain": [
       "       image  class\n",
       "0  16800.jpg    148\n",
       "1  19320.jpg    161\n",
       "2  21505.jpg    203\n",
       "3  11014.jpg     21\n",
       "4  10790.jpg    253"
      ]
     },
     "execution_count": 65,
     "metadata": {},
     "output_type": "execute_result"
    }
   ],
   "source": [
    "image = [item.split('/')[2] for item in test_files]\n",
    "submission = pd.DataFrame(\n",
    "    {'image': image,\n",
    "     'class': predictions_test\n",
    "    })\n",
    "submission = submission[['image','class']]\n",
    "submission.head()"
   ]
  },
  {
   "cell_type": "code",
   "execution_count": 66,
   "metadata": {
    "collapsed": true
   },
   "outputs": [],
   "source": [
    "submission.to_csv('submissions/keras_aug_unival13.csv', index = False)"
   ]
  },
  {
   "cell_type": "code",
   "execution_count": 39,
   "metadata": {
    "collapsed": true
   },
   "outputs": [],
   "source": [
    "#keras_aug1.hdf5 - 28.17%\n",
    "#keras_aug2.hdf5 - 29.08% - 3 conv layers\n",
    "#normval64.hdf5 - 38.34%\n",
    "#unival64.hdf5 - 13.77%\n",
    "#normval64_new.hdf5 - 35.70%\n",
    "#unival_13.hdf5 - 22.06%"
   ]
  },
  {
   "cell_type": "code",
   "execution_count": null,
   "metadata": {
    "collapsed": true
   },
   "outputs": [],
   "source": []
  },
  {
   "cell_type": "code",
   "execution_count": null,
   "metadata": {
    "collapsed": true
   },
   "outputs": [],
   "source": []
  },
  {
   "cell_type": "code",
   "execution_count": null,
   "metadata": {
    "collapsed": true
   },
   "outputs": [],
   "source": []
  }
 ],
 "metadata": {
  "kernelspec": {
   "display_name": "Python 3",
   "language": "python",
   "name": "python3"
  },
  "language_info": {
   "codemirror_mode": {
    "name": "ipython",
    "version": 3
   },
   "file_extension": ".py",
   "mimetype": "text/x-python",
   "name": "python",
   "nbconvert_exporter": "python",
   "pygments_lexer": "ipython3",
   "version": "3.6.1"
  }
 },
 "nbformat": 4,
 "nbformat_minor": 2
}
