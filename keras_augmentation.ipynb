{
 "cells": [
  {
   "cell_type": "markdown",
   "metadata": {},
   "source": [
    "## Full Keras with augmentation"
   ]
  },
  {
   "cell_type": "code",
   "execution_count": 1,
   "metadata": {
    "collapsed": true
   },
   "outputs": [],
   "source": [
    "import os\n",
    "os.environ[\"CUDA_DEVICE_ORDER\"] = \"PCI_BUS_ID\"\n",
    "os.environ[\"CUDA_VISIBLE_DEVICES\"] = \"0\""
   ]
  },
  {
   "cell_type": "code",
   "execution_count": 2,
   "metadata": {
    "collapsed": true
   },
   "outputs": [],
   "source": [
    "import numpy as np\n",
    "import pandas as pd\n",
    "import matplotlib.pyplot as plt\n",
    "\n",
    "import skimage \n",
    "from scipy import ndimage, misc"
   ]
  },
  {
   "cell_type": "code",
   "execution_count": 3,
   "metadata": {
    "collapsed": true
   },
   "outputs": [],
   "source": [
    "import cv2\n",
    "def plot_image(file_path):\n",
    "    \"\"\" Print image from file 'file_path' \"\"\"\n",
    "    img = cv2.imread(file_path)\n",
    "    cv_rgb = cv2.cvtColor(img, cv2.COLOR_BGR2RGB)\n",
    "    plt.imshow(cv_rgb)\n",
    "    plt.show()"
   ]
  },
  {
   "cell_type": "code",
   "execution_count": 4,
   "metadata": {},
   "outputs": [
    {
     "name": "stderr",
     "output_type": "stream",
     "text": [
      "Using TensorFlow backend.\n"
     ]
    }
   ],
   "source": [
    "from keras.utils import np_utils\n",
    "from sklearn.datasets import load_files\n",
    "\n",
    "data = load_files('prepnorm224/train')\n",
    "caltech_files_train = np.array(data['filenames'])\n",
    "caltech_targets_train = np.array(data['target'])\n",
    "\n",
    "data_val = load_files('prepnorm224/val')\n",
    "caltech_files_val = np.array(data_val['filenames'])\n",
    "caltech_targets_val = np.array(data_val['target'])\n",
    "\n",
    "X_train, X_val = caltech_files_train, caltech_files_val\n",
    "y_train_class, y_val_class = caltech_targets_train, caltech_targets_val\n",
    "y_train = np_utils.to_categorical(y_train_class, 257)\n",
    "y_val = np_utils.to_categorical(y_val_class, 257)\n",
    "\n",
    "del data, data_val, caltech_files_train, caltech_targets_train, caltech_files_val, caltech_targets_val"
   ]
  },
  {
   "cell_type": "code",
   "execution_count": 5,
   "metadata": {
    "collapsed": true
   },
   "outputs": [],
   "source": [
    "test_files = ['prepnorm224/test/'+ file for file in os.listdir('prepnorm224/test')]\n",
    "#test_files[:5]"
   ]
  },
  {
   "cell_type": "code",
   "execution_count": 6,
   "metadata": {
    "collapsed": true
   },
   "outputs": [],
   "source": [
    "from keras.preprocessing.image import ImageDataGenerator, array_to_img, img_to_array, load_img\n",
    "\n",
    "resize = (224, 224)\n",
    "\n",
    "CHANNELS = 3\n",
    "ROWS = resize[0]\n",
    "COLS = resize[1]\n",
    "mean = 135\n",
    "\n",
    "datagen = ImageDataGenerator(\n",
    "        rotation_range=40,\n",
    "        width_shift_range=0.2,\n",
    "        height_shift_range=0.2,\n",
    "        shear_range=0.2,\n",
    "        zoom_range=0.2,\n",
    "        horizontal_flip=True,\n",
    "        fill_mode='nearest')"
   ]
  },
  {
   "cell_type": "markdown",
   "metadata": {},
   "source": [
    "## Data load and resize"
   ]
  },
  {
   "cell_type": "code",
   "execution_count": 7,
   "metadata": {
    "collapsed": true
   },
   "outputs": [],
   "source": [
    "from keras.preprocessing import image                  \n",
    "from tqdm import tqdm\n",
    "\n",
    "def path_to_tensor(img_path, resize = resize):\n",
    "    # loads RGB image as PIL.Image.Image type\n",
    "    img = image.load_img(img_path, target_size=resize)\n",
    "    # convert PIL.Image.Image type to 3D tensor with shape (224, 224, 3)\n",
    "    x = image.img_to_array(img)\n",
    "    # convert 3D tensor to 4D tensor with shape (1, 224, 224, 3) and return 4D tensor\n",
    "    return np.expand_dims(x, axis=0)\n",
    "\n",
    "def paths_to_tensor(img_paths, resize = resize):\n",
    "    list_of_tensors = [path_to_tensor(img_path, resize) for img_path in tqdm(img_paths)]\n",
    "    return np.vstack(list_of_tensors)"
   ]
  },
  {
   "cell_type": "code",
   "execution_count": 8,
   "metadata": {},
   "outputs": [
    {
     "name": "stderr",
     "output_type": "stream",
     "text": [
      "100%|██████████| 16027/16027 [00:16<00:00, 996.52it/s] \n",
      "100%|██████████| 6870/6870 [00:06<00:00, 1128.90it/s]\n",
      "100%|██████████| 7710/7710 [00:07<00:00, 1072.14it/s]\n"
     ]
    }
   ],
   "source": [
    "from PIL import ImageFile                            \n",
    "ImageFile.LOAD_TRUNCATED_IMAGES = True                 \n",
    "\n",
    "# pre-process the data for Keras\n",
    "train_data = paths_to_tensor(X_train, resize).astype('float32')/255\n",
    "valid_data = paths_to_tensor(X_val, resize).astype('float32')/255\n",
    "test_data = paths_to_tensor(test_files, resize).astype('float32')/255"
   ]
  },
  {
   "cell_type": "code",
   "execution_count": 9,
   "metadata": {},
   "outputs": [
    {
     "name": "stdout",
     "output_type": "stream",
     "text": [
      "(16027, 224, 224, 3)\n",
      "(6870, 224, 224, 3)\n",
      "(7710, 224, 224, 3)\n"
     ]
    }
   ],
   "source": [
    "print(train_data.shape)\n",
    "print(valid_data.shape)\n",
    "print(test_data.shape)"
   ]
  },
  {
   "cell_type": "code",
   "execution_count": 10,
   "metadata": {},
   "outputs": [
    {
     "name": "stdout",
     "output_type": "stream",
     "text": [
      "Found 16472 images belonging to 257 classes.\n",
      "Found 6425 images belonging to 257 classes.\n",
      "Found 0 images belonging to 0 classes.\n"
     ]
    }
   ],
   "source": [
    "batch_size = 16\n",
    "\n",
    "train_datagen = ImageDataGenerator(\n",
    "        rescale=1./255,\n",
    "        rotation_range=20,\n",
    "        shear_range=0.2,\n",
    "        zoom_range=0.2,\n",
    "        width_shift_range=0.2,\n",
    "        height_shift_range=0.2,\n",
    "        horizontal_flip=True)\n",
    "\n",
    "# only rescaling for test set\n",
    "test_datagen = ImageDataGenerator(rescale=1./255)\n",
    "\n",
    "# this is a generator that will read pictures found in\n",
    "# subfolers of 'data/train', and indefinitely generate\n",
    "# batches of augmented image data\n",
    "train_generator = train_datagen.flow_from_directory(\n",
    "        'prep224/train',  # this is the target directory\n",
    "        target_size=(ROWS, COLS),  # all images will be resized to 150x150\n",
    "        batch_size=batch_size,\n",
    "        class_mode='categorical')  # since we use binary_crossentropy loss, we need binary labels\n",
    "\n",
    "# this is a similar generator, for validation data\n",
    "validation_generator = train_datagen.flow_from_directory(\n",
    "        'prep224/val',\n",
    "        target_size=(ROWS, COLS),\n",
    "        batch_size=batch_size,\n",
    "        class_mode='categorical')\n",
    "\n",
    "test_generator = test_datagen.flow_from_directory(\n",
    "    'prep224/test',\n",
    "    target_size=(64, 64),\n",
    "    class_mode=None,\n",
    "    batch_size=64,\n",
    "    shuffle=False)"
   ]
  },
  {
   "cell_type": "code",
   "execution_count": 11,
   "metadata": {},
   "outputs": [
    {
     "name": "stdout",
     "output_type": "stream",
     "text": [
      "_________________________________________________________________\n",
      "Layer (type)                 Output Shape              Param #   \n",
      "=================================================================\n",
      "conv2d_1 (Conv2D)            (None, 224, 224, 16)      208       \n",
      "_________________________________________________________________\n",
      "max_pooling2d_1 (MaxPooling2 (None, 112, 112, 16)      0         \n",
      "_________________________________________________________________\n",
      "conv2d_2 (Conv2D)            (None, 112, 112, 32)      2080      \n",
      "_________________________________________________________________\n",
      "max_pooling2d_2 (MaxPooling2 (None, 56, 56, 32)        0         \n",
      "_________________________________________________________________\n",
      "conv2d_3 (Conv2D)            (None, 56, 56, 64)        8256      \n",
      "_________________________________________________________________\n",
      "max_pooling2d_3 (MaxPooling2 (None, 28, 28, 64)        0         \n",
      "_________________________________________________________________\n",
      "conv2d_4 (Conv2D)            (None, 28, 28, 128)       32896     \n",
      "_________________________________________________________________\n",
      "max_pooling2d_4 (MaxPooling2 (None, 14, 14, 128)       0         \n",
      "_________________________________________________________________\n",
      "dropout_1 (Dropout)          (None, 14, 14, 128)       0         \n",
      "_________________________________________________________________\n",
      "flatten_1 (Flatten)          (None, 25088)             0         \n",
      "_________________________________________________________________\n",
      "dense_1 (Dense)              (None, 512)               12845568  \n",
      "_________________________________________________________________\n",
      "dropout_2 (Dropout)          (None, 512)               0         \n",
      "_________________________________________________________________\n",
      "dense_2 (Dense)              (None, 257)               131841    \n",
      "=================================================================\n",
      "Total params: 13,020,849.0\n",
      "Trainable params: 13,020,849.0\n",
      "Non-trainable params: 0.0\n",
      "_________________________________________________________________\n"
     ]
    }
   ],
   "source": [
    "from keras.layers import Conv2D, MaxPooling2D, GlobalAveragePooling1D\n",
    "from keras.layers import Dropout, Flatten, Dense\n",
    "from keras.models import Sequential\n",
    "\n",
    "model = Sequential()\n",
    "\n",
    "model.add(Conv2D(filters=16, kernel_size=2, padding='same', activation='relu', \n",
    "                        input_shape=(resize[0], resize[1], CHANNELS)))\n",
    "model.add(MaxPooling2D(pool_size=2))\n",
    "model.add(Conv2D(filters=32, kernel_size=2, padding='same', activation='relu'))\n",
    "model.add(MaxPooling2D(pool_size=2))\n",
    "model.add(Conv2D(filters=64, kernel_size=2, padding='same', activation='relu'))\n",
    "model.add(MaxPooling2D(pool_size=2))\n",
    "model.add(Conv2D(filters=128, kernel_size=2, padding='same', activation='relu'))\n",
    "model.add(MaxPooling2D(pool_size=2))\n",
    "#model.add(Conv2D(filters=256, kernel_size=3, padding='same', activation='relu'))\n",
    "#model.add(MaxPooling2D(pool_size=2))\n",
    "#model.add(Conv2D(filters=512, kernel_size=3, padding='same', activation='relu'))\n",
    "#model.add(MaxPooling2D(pool_size=2))\n",
    "model.add(Dropout(0.4))\n",
    "model.add(Flatten())\n",
    "model.add(Dense(512, activation='relu'))\n",
    "model.add(Dropout(0.4))\n",
    "model.add(Dense(257, activation='softmax'))\n",
    "\n",
    "model.summary()"
   ]
  },
  {
   "cell_type": "code",
   "execution_count": 12,
   "metadata": {
    "collapsed": true
   },
   "outputs": [],
   "source": [
    "model.compile(optimizer='adam', loss='categorical_crossentropy', metrics=['accuracy'])"
   ]
  },
  {
   "cell_type": "code",
   "execution_count": 13,
   "metadata": {
    "collapsed": true
   },
   "outputs": [],
   "source": [
    "from keras.callbacks import ModelCheckpoint, ReduceLROnPlateau, EarlyStopping\n",
    "\n",
    "epochs = 30\n",
    "\n",
    "checkpointer = [ModelCheckpoint(filepath='saved_models/weights.best.normval.hdf5', \n",
    "                               verbose=1, save_best_only=True),\n",
    "               ReduceLROnPlateau(verbose=1, patience=3, factor = 0.1), \n",
    "               EarlyStopping(verbose=1, patience=5, monitor='val_loss')]\n",
    "\n",
    "#model.fit(train, y_train, \n",
    "#          validation_data=(val, y_val),\n",
    "#          epochs=epochs, batch_size=64, callbacks=checkpointer, verbose=1)"
   ]
  },
  {
   "cell_type": "code",
   "execution_count": 14,
   "metadata": {},
   "outputs": [
    {
     "name": "stdout",
     "output_type": "stream",
     "text": [
      "Epoch 1/30\n",
      "1001/1001 [============================>.] - ETA: 0s - loss: 5.0366 - acc: 0.0935Epoch 00000: val_loss improved from inf to 5.52503, saving model to saved_models/weights.best.normval.hdf5\n",
      "1002/1001 [==============================] - 156s - loss: 5.0372 - acc: 0.0936 - val_loss: 5.5250 - val_acc: 0.0141\n",
      "Epoch 2/30\n",
      "1001/1001 [============================>.] - ETA: 0s - loss: 4.6163 - acc: 0.1455Epoch 00001: val_loss improved from 5.52503 to 5.25264, saving model to saved_models/weights.best.normval.hdf5\n",
      "1002/1001 [==============================] - 156s - loss: 4.6158 - acc: 0.1456 - val_loss: 5.2526 - val_acc: 0.0348\n",
      "Epoch 3/30\n",
      "1001/1001 [============================>.] - ETA: 0s - loss: 4.3626 - acc: 0.1748Epoch 00002: val_loss improved from 5.25264 to 5.05733, saving model to saved_models/weights.best.normval.hdf5\n",
      "1002/1001 [==============================] - 156s - loss: 4.3622 - acc: 0.1750 - val_loss: 5.0573 - val_acc: 0.0407\n",
      "Epoch 4/30\n",
      "1001/1001 [============================>.] - ETA: 0s - loss: 4.2216 - acc: 0.1925Epoch 00003: val_loss improved from 5.05733 to 4.97411, saving model to saved_models/weights.best.normval.hdf5\n",
      "1002/1001 [==============================] - 158s - loss: 4.2217 - acc: 0.1924 - val_loss: 4.9741 - val_acc: 0.0563\n",
      "Epoch 5/30\n",
      "1001/1001 [============================>.] - ETA: 0s - loss: 4.0804 - acc: 0.2072Epoch 00004: val_loss improved from 4.97411 to 4.84562, saving model to saved_models/weights.best.normval.hdf5\n",
      "1002/1001 [==============================] - 155s - loss: 4.0805 - acc: 0.2071 - val_loss: 4.8456 - val_acc: 0.0707\n",
      "Epoch 6/30\n",
      "1001/1001 [============================>.] - ETA: 0s - loss: 3.9762 - acc: 0.2161Epoch 00005: val_loss improved from 4.84562 to 4.83216, saving model to saved_models/weights.best.normval.hdf5\n",
      "1002/1001 [==============================] - 155s - loss: 3.9766 - acc: 0.2160 - val_loss: 4.8322 - val_acc: 0.0812\n",
      "Epoch 7/30\n",
      "1001/1001 [============================>.] - ETA: 0s - loss: 3.9295 - acc: 0.2202Epoch 00006: val_loss improved from 4.83216 to 4.67434, saving model to saved_models/weights.best.normval.hdf5\n",
      "1002/1001 [==============================] - 154s - loss: 3.9301 - acc: 0.2201 - val_loss: 4.6743 - val_acc: 0.0890\n",
      "Epoch 8/30\n",
      "1001/1001 [============================>.] - ETA: 0s - loss: 3.8422 - acc: 0.2303Epoch 00007: val_loss improved from 4.67434 to 4.64450, saving model to saved_models/weights.best.normval.hdf5\n",
      "1002/1001 [==============================] - 156s - loss: 3.8424 - acc: 0.2302 - val_loss: 4.6445 - val_acc: 0.0936\n",
      "Epoch 9/30\n",
      "1001/1001 [============================>.] - ETA: 0s - loss: 3.7789 - acc: 0.2438Epoch 00008: val_loss did not improve\n",
      "1002/1001 [==============================] - 154s - loss: 3.7790 - acc: 0.2438 - val_loss: 4.7153 - val_acc: 0.0930\n",
      "Epoch 10/30\n",
      "1001/1001 [============================>.] - ETA: 0s - loss: 3.7534 - acc: 0.2423Epoch 00009: val_loss improved from 4.64450 to 4.55062, saving model to saved_models/weights.best.normval.hdf5\n",
      "1002/1001 [==============================] - 155s - loss: 3.7532 - acc: 0.2423 - val_loss: 4.5506 - val_acc: 0.1023\n",
      "Epoch 11/30\n",
      "1001/1001 [============================>.] - ETA: 0s - loss: 3.6826 - acc: 0.2494Epoch 00010: val_loss did not improve\n",
      "1002/1001 [==============================] - 155s - loss: 3.6821 - acc: 0.2495 - val_loss: 4.6342 - val_acc: 0.1077\n",
      "Epoch 12/30\n",
      "1001/1001 [============================>.] - ETA: 0s - loss: 3.6720 - acc: 0.2526Epoch 00011: val_loss improved from 4.55062 to 4.50784, saving model to saved_models/weights.best.normval.hdf5\n",
      "1002/1001 [==============================] - 153s - loss: 3.6709 - acc: 0.2527 - val_loss: 4.5078 - val_acc: 0.1160\n",
      "Epoch 13/30\n",
      "1001/1001 [============================>.] - ETA: 0s - loss: 3.6076 - acc: 0.2609Epoch 00012: val_loss improved from 4.50784 to 4.45428, saving model to saved_models/weights.best.normval.hdf5\n",
      "1002/1001 [==============================] - 154s - loss: 3.6078 - acc: 0.2609 - val_loss: 4.4543 - val_acc: 0.1208\n",
      "Epoch 14/30\n",
      "1001/1001 [============================>.] - ETA: 0s - loss: 3.5810 - acc: 0.2644Epoch 00013: val_loss improved from 4.45428 to 4.42174, saving model to saved_models/weights.best.normval.hdf5\n",
      "1002/1001 [==============================] - 154s - loss: 3.5806 - acc: 0.2643 - val_loss: 4.4217 - val_acc: 0.1283\n",
      "Epoch 15/30\n",
      "1001/1001 [============================>.] - ETA: 0s - loss: 3.5270 - acc: 0.2703Epoch 00014: val_loss did not improve\n",
      "1002/1001 [==============================] - 154s - loss: 3.5273 - acc: 0.2703 - val_loss: 4.4792 - val_acc: 0.1280\n",
      "Epoch 16/30\n",
      "1001/1001 [============================>.] - ETA: 0s - loss: 3.5216 - acc: 0.2718Epoch 00015: val_loss improved from 4.42174 to 4.41006, saving model to saved_models/weights.best.normval.hdf5\n",
      "1002/1001 [==============================] - 153s - loss: 3.5214 - acc: 0.2717 - val_loss: 4.4101 - val_acc: 0.1362\n",
      "Epoch 17/30\n",
      "1001/1001 [============================>.] - ETA: 0s - loss: 3.4997 - acc: 0.2710Epoch 00016: val_loss did not improve\n",
      "1002/1001 [==============================] - 153s - loss: 3.4999 - acc: 0.2709 - val_loss: 4.4463 - val_acc: 0.1423\n",
      "Epoch 18/30\n",
      "1001/1001 [============================>.] - ETA: 0s - loss: 3.4406 - acc: 0.2825Epoch 00017: val_loss improved from 4.41006 to 4.40756, saving model to saved_models/weights.best.normval.hdf5\n",
      "1002/1001 [==============================] - 154s - loss: 3.4412 - acc: 0.2824 - val_loss: 4.4076 - val_acc: 0.1321\n",
      "Epoch 19/30\n",
      "1001/1001 [============================>.] - ETA: 0s - loss: 3.4291 - acc: 0.2830Epoch 00018: val_loss did not improve\n",
      "1002/1001 [==============================] - 156s - loss: 3.4281 - acc: 0.2831 - val_loss: 4.4146 - val_acc: 0.1458\n",
      "Epoch 20/30\n",
      "1001/1001 [============================>.] - ETA: 0s - loss: 3.4177 - acc: 0.2794Epoch 00019: val_loss did not improve\n",
      "1002/1001 [==============================] - 155s - loss: 3.4171 - acc: 0.2796 - val_loss: 4.4464 - val_acc: 0.1417\n",
      "Epoch 21/30\n",
      "1001/1001 [============================>.] - ETA: 0s - loss: 3.3875 - acc: 0.2905Epoch 00020: val_loss improved from 4.40756 to 4.33837, saving model to saved_models/weights.best.normval.hdf5\n",
      "1002/1001 [==============================] - 156s - loss: 3.3881 - acc: 0.2904 - val_loss: 4.3384 - val_acc: 0.1550\n",
      "Epoch 22/30\n",
      "1001/1001 [============================>.] - ETA: 0s - loss: 3.3818 - acc: 0.2867Epoch 00021: val_loss did not improve\n",
      "1002/1001 [==============================] - 154s - loss: 3.3824 - acc: 0.2866 - val_loss: 4.4212 - val_acc: 0.1429\n",
      "Epoch 23/30\n",
      "1001/1001 [============================>.] - ETA: 0s - loss: 3.3664 - acc: 0.2943Epoch 00022: val_loss did not improve\n",
      "1002/1001 [==============================] - 156s - loss: 3.3658 - acc: 0.2943 - val_loss: 4.3757 - val_acc: 0.1536\n",
      "Epoch 24/30\n",
      "1001/1001 [============================>.] - ETA: 0s - loss: 3.3406 - acc: 0.2896Epoch 00023: val_loss did not improve\n",
      "1002/1001 [==============================] - 154s - loss: 3.3410 - acc: 0.2894 - val_loss: 4.4303 - val_acc: 0.1510\n",
      "Epoch 25/30\n",
      "1001/1001 [============================>.] - ETA: 0s - loss: 3.3271 - acc: 0.2969Epoch 00024: val_loss did not improve\n",
      "\n",
      "Epoch 00024: reducing learning rate to 0.00010000000474974513.\n",
      "1002/1001 [==============================] - 154s - loss: 3.3277 - acc: 0.2968 - val_loss: 4.3479 - val_acc: 0.1520\n",
      "Epoch 26/30\n",
      "1001/1001 [============================>.] - ETA: 0s - loss: 3.1496 - acc: 0.3190Epoch 00025: val_loss improved from 4.33837 to 4.26513, saving model to saved_models/weights.best.normval.hdf5\n",
      "1002/1001 [==============================] - 155s - loss: 3.1496 - acc: 0.3189 - val_loss: 4.2651 - val_acc: 0.1675\n",
      "Epoch 27/30\n",
      "1001/1001 [============================>.] - ETA: 0s - loss: 3.1024 - acc: 0.3259Epoch 00026: val_loss improved from 4.26513 to 4.24451, saving model to saved_models/weights.best.normval.hdf5\n",
      "1002/1001 [==============================] - 154s - loss: 3.1023 - acc: 0.3259 - val_loss: 4.2445 - val_acc: 0.1688\n",
      "Epoch 28/30\n",
      "1001/1001 [============================>.] - ETA: 0s - loss: 3.0891 - acc: 0.3269Epoch 00027: val_loss did not improve\n"
     ]
    },
    {
     "name": "stdout",
     "output_type": "stream",
     "text": [
      "1002/1001 [==============================] - 155s - loss: 3.0884 - acc: 0.3270 - val_loss: 4.2601 - val_acc: 0.1695\n",
      "Epoch 29/30\n",
      "1001/1001 [============================>.] - ETA: 0s - loss: 3.0635 - acc: 0.3317Epoch 00028: val_loss did not improve\n",
      "1002/1001 [==============================] - 154s - loss: 3.0633 - acc: 0.3317 - val_loss: 4.2452 - val_acc: 0.1769\n",
      "Epoch 30/30\n",
      "1001/1001 [============================>.] - ETA: 0s - loss: 3.0619 - acc: 0.3328Epoch 00029: val_loss improved from 4.24451 to 4.22844, saving model to saved_models/weights.best.normval.hdf5\n",
      "1002/1001 [==============================] - 154s - loss: 3.0615 - acc: 0.3328 - val_loss: 4.2284 - val_acc: 0.1733\n"
     ]
    },
    {
     "data": {
      "text/plain": [
       "<keras.callbacks.History at 0x7f81c62d7dd8>"
      ]
     },
     "execution_count": 14,
     "metadata": {},
     "output_type": "execute_result"
    }
   ],
   "source": [
    "model.fit_generator(\n",
    "        train_generator,\n",
    "        steps_per_epoch=len(train_data) / batch_size,\n",
    "        epochs=epochs,\n",
    "        validation_data=validation_generator,\n",
    "        validation_steps=len(valid_data) / batch_size, callbacks=checkpointer, verbose=1)"
   ]
  },
  {
   "cell_type": "code",
   "execution_count": 15,
   "metadata": {},
   "outputs": [
    {
     "name": "stdout",
     "output_type": "stream",
     "text": [
      "Validation accuracy: 38.41%\n"
     ]
    }
   ],
   "source": [
    "model.load_weights('saved_models/weights.best.normval.hdf5')\n",
    "predictions = [np.argmax(model.predict(np.expand_dims(feature, axis=0))) for feature in valid_data]\n",
    "# get val accuracy\n",
    "val_accuracy = 100*np.sum(np.array(predictions)==np.argmax(y_val, axis=1))/len(predictions)\n",
    "print('Validation accuracy: %.2f%%' % val_accuracy)"
   ]
  },
  {
   "cell_type": "code",
   "execution_count": 17,
   "metadata": {
    "collapsed": true
   },
   "outputs": [],
   "source": [
    "predictions_test = [1+np.argmax(model.predict(np.expand_dims(feature, axis=0))) for feature in test_data]"
   ]
  },
  {
   "cell_type": "code",
   "execution_count": 18,
   "metadata": {},
   "outputs": [
    {
     "data": {
      "text/html": [
       "<div>\n",
       "<style>\n",
       "    .dataframe thead tr:only-child th {\n",
       "        text-align: right;\n",
       "    }\n",
       "\n",
       "    .dataframe thead th {\n",
       "        text-align: left;\n",
       "    }\n",
       "\n",
       "    .dataframe tbody tr th {\n",
       "        vertical-align: top;\n",
       "    }\n",
       "</style>\n",
       "<table border=\"1\" class=\"dataframe\">\n",
       "  <thead>\n",
       "    <tr style=\"text-align: right;\">\n",
       "      <th></th>\n",
       "      <th>image</th>\n",
       "      <th>class</th>\n",
       "    </tr>\n",
       "  </thead>\n",
       "  <tbody>\n",
       "    <tr>\n",
       "      <th>0</th>\n",
       "      <td>16800.jpg</td>\n",
       "      <td>148</td>\n",
       "    </tr>\n",
       "    <tr>\n",
       "      <th>1</th>\n",
       "      <td>19320.jpg</td>\n",
       "      <td>161</td>\n",
       "    </tr>\n",
       "    <tr>\n",
       "      <th>2</th>\n",
       "      <td>21505.jpg</td>\n",
       "      <td>160</td>\n",
       "    </tr>\n",
       "    <tr>\n",
       "      <th>3</th>\n",
       "      <td>11014.jpg</td>\n",
       "      <td>232</td>\n",
       "    </tr>\n",
       "    <tr>\n",
       "      <th>4</th>\n",
       "      <td>10790.jpg</td>\n",
       "      <td>90</td>\n",
       "    </tr>\n",
       "  </tbody>\n",
       "</table>\n",
       "</div>"
      ],
      "text/plain": [
       "       image  class\n",
       "0  16800.jpg    148\n",
       "1  19320.jpg    161\n",
       "2  21505.jpg    160\n",
       "3  11014.jpg    232\n",
       "4  10790.jpg     90"
      ]
     },
     "execution_count": 18,
     "metadata": {},
     "output_type": "execute_result"
    }
   ],
   "source": [
    "image = [item.split('/')[2] for item in test_files]\n",
    "submission = pd.DataFrame(\n",
    "    {'image': image,\n",
    "     'class': predictions_test\n",
    "    })\n",
    "submission = submission[['image','class']]\n",
    "submission.head()"
   ]
  },
  {
   "cell_type": "code",
   "execution_count": 19,
   "metadata": {
    "collapsed": true
   },
   "outputs": [],
   "source": [
    "submission.to_csv('keras_aug_valnorm.csv', index = False)"
   ]
  },
  {
   "cell_type": "code",
   "execution_count": 39,
   "metadata": {
    "collapsed": true
   },
   "outputs": [],
   "source": [
    "#keras_aug1.hdf5 - 28.17%\n",
    "#keras_aug2.hdf5 - 29.08% - 3 conv layers"
   ]
  },
  {
   "cell_type": "code",
   "execution_count": 16,
   "metadata": {},
   "outputs": [
    {
     "data": {
      "text/plain": [
       "2"
      ]
     },
     "execution_count": 16,
     "metadata": {},
     "output_type": "execute_result"
    }
   ],
   "source": [
    "1+1"
   ]
  },
  {
   "cell_type": "code",
   "execution_count": null,
   "metadata": {
    "collapsed": true
   },
   "outputs": [],
   "source": []
  }
 ],
 "metadata": {
  "kernelspec": {
   "display_name": "Python 3",
   "language": "python",
   "name": "python3"
  },
  "language_info": {
   "codemirror_mode": {
    "name": "ipython",
    "version": 3
   },
   "file_extension": ".py",
   "mimetype": "text/x-python",
   "name": "python",
   "nbconvert_exporter": "python",
   "pygments_lexer": "ipython3",
   "version": "3.6.1"
  }
 },
 "nbformat": 4,
 "nbformat_minor": 2
}
