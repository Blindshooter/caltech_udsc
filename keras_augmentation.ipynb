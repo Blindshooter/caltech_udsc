{
 "cells": [
  {
   "cell_type": "markdown",
   "metadata": {},
   "source": [
    "## Full Keras with augmentation"
   ]
  },
  {
   "cell_type": "code",
   "execution_count": 1,
   "metadata": {
    "collapsed": true
   },
   "outputs": [],
   "source": [
    "import os\n",
    "os.environ[\"CUDA_DEVICE_ORDER\"] = \"PCI_BUS_ID\"\n",
    "os.environ[\"CUDA_VISIBLE_DEVICES\"] = \"0\""
   ]
  },
  {
   "cell_type": "code",
   "execution_count": 2,
   "metadata": {
    "collapsed": true
   },
   "outputs": [],
   "source": [
    "import numpy as np\n",
    "import pandas as pd\n",
    "import matplotlib.pyplot as plt\n",
    "\n",
    "import skimage \n",
    "from scipy import ndimage, misc"
   ]
  },
  {
   "cell_type": "code",
   "execution_count": 3,
   "metadata": {
    "collapsed": true
   },
   "outputs": [],
   "source": [
    "import cv2\n",
    "def plot_image(file_path):\n",
    "    \"\"\" Print image from file 'file_path' \"\"\"\n",
    "    img = cv2.imread(file_path)\n",
    "    cv_rgb = cv2.cvtColor(img, cv2.COLOR_BGR2RGB)\n",
    "    plt.imshow(cv_rgb)\n",
    "    plt.show()"
   ]
  },
  {
   "cell_type": "code",
   "execution_count": 4,
   "metadata": {},
   "outputs": [
    {
     "name": "stderr",
     "output_type": "stream",
     "text": [
      "Using TensorFlow backend.\n"
     ]
    }
   ],
   "source": [
    "from keras.utils import np_utils\n",
    "from sklearn.datasets import load_files\n",
    "\n",
    "data = load_files('prep/train')\n",
    "caltech_files_train = np.array(data['filenames'])\n",
    "caltech_targets_train = np.array(data['target'])\n",
    "\n",
    "data_val = load_files('prep/val')\n",
    "caltech_files_val = np.array(data_val['filenames'])\n",
    "caltech_targets_val = np.array(data_val['target'])\n",
    "\n",
    "X_train, X_val = caltech_files_train, caltech_files_val\n",
    "y_train_class, y_val_class = caltech_targets_train, caltech_targets_val\n",
    "y_train = np_utils.to_categorical(y_train_class, 257)\n",
    "y_val = np_utils.to_categorical(y_val_class, 257)\n",
    "\n",
    "del data, data_val, caltech_files_train, caltech_targets_train, caltech_files_val, caltech_targets_val"
   ]
  },
  {
   "cell_type": "code",
   "execution_count": 5,
   "metadata": {},
   "outputs": [],
   "source": [
    "test_files = ['prep/test/'+ file for file in os.listdir('prep/test')]\n",
    "#test_files[:5]"
   ]
  },
  {
   "cell_type": "code",
   "execution_count": 6,
   "metadata": {},
   "outputs": [],
   "source": [
    "from keras.preprocessing.image import ImageDataGenerator, array_to_img, img_to_array, load_img\n",
    "\n",
    "resize = (64, 64)\n",
    "\n",
    "CHANNELS = 3\n",
    "ROWS = resize[0]\n",
    "COLS = resize[1]\n",
    "mean = 135\n",
    "\n",
    "datagen = ImageDataGenerator(\n",
    "        rotation_range=40,\n",
    "        width_shift_range=0.2,\n",
    "        height_shift_range=0.2,\n",
    "        shear_range=0.2,\n",
    "        zoom_range=0.2,\n",
    "        horizontal_flip=True,\n",
    "        fill_mode='nearest')"
   ]
  },
  {
   "cell_type": "markdown",
   "metadata": {},
   "source": [
    "## Data load and resize"
   ]
  },
  {
   "cell_type": "code",
   "execution_count": 7,
   "metadata": {
    "collapsed": true
   },
   "outputs": [],
   "source": [
    "from keras.preprocessing import image                  \n",
    "from tqdm import tqdm\n",
    "\n",
    "def path_to_tensor(img_path, resize = resize):\n",
    "    # loads RGB image as PIL.Image.Image type\n",
    "    img = image.load_img(img_path, target_size=resize)\n",
    "    # convert PIL.Image.Image type to 3D tensor with shape (224, 224, 3)\n",
    "    x = image.img_to_array(img)\n",
    "    # convert 3D tensor to 4D tensor with shape (1, 224, 224, 3) and return 4D tensor\n",
    "    return np.expand_dims(x, axis=0)\n",
    "\n",
    "def paths_to_tensor(img_paths, resize = resize):\n",
    "    list_of_tensors = [path_to_tensor(img_path, resize) for img_path in tqdm(img_paths)]\n",
    "    return np.vstack(list_of_tensors)"
   ]
  },
  {
   "cell_type": "code",
   "execution_count": 17,
   "metadata": {},
   "outputs": [
    {
     "name": "stderr",
     "output_type": "stream",
     "text": [
      "100%|██████████| 16027/16027 [00:06<00:00, 2631.57it/s]\n",
      "100%|██████████| 6870/6870 [00:02<00:00, 2635.24it/s]\n",
      "100%|██████████| 7710/7710 [00:02<00:00, 2580.14it/s]\n"
     ]
    }
   ],
   "source": [
    "from PIL import ImageFile                            \n",
    "ImageFile.LOAD_TRUNCATED_IMAGES = True                 \n",
    "\n",
    "# pre-process the data for Keras\n",
    "train_data = paths_to_tensor(X_train, resize).astype('float32')/255\n",
    "valid_data = paths_to_tensor(X_val, resize).astype('float32')/255\n",
    "test_data = paths_to_tensor(test_files, resize).astype('float32')/255"
   ]
  },
  {
   "cell_type": "code",
   "execution_count": 18,
   "metadata": {},
   "outputs": [
    {
     "name": "stdout",
     "output_type": "stream",
     "text": [
      "(16027, 64, 64, 3)\n",
      "(6870, 64, 64, 3)\n",
      "(7710, 64, 64, 3)\n"
     ]
    }
   ],
   "source": [
    "print(train_data.shape)\n",
    "print(valid_data.shape)\n",
    "print(test_data.shape)"
   ]
  },
  {
   "cell_type": "code",
   "execution_count": 10,
   "metadata": {},
   "outputs": [
    {
     "name": "stdout",
     "output_type": "stream",
     "text": [
      "Found 16027 images belonging to 257 classes.\n",
      "Found 6870 images belonging to 257 classes.\n",
      "Found 0 images belonging to 0 classes.\n"
     ]
    }
   ],
   "source": [
    "batch_size = 16\n",
    "\n",
    "train_datagen = ImageDataGenerator(\n",
    "        rescale=1./255,\n",
    "        rotation_range=20,\n",
    "        shear_range=0.2,\n",
    "        zoom_range=0.2,\n",
    "        width_shift_range=0.2,\n",
    "        height_shift_range=0.2,\n",
    "        horizontal_flip=True)\n",
    "\n",
    "# only rescaling for test set\n",
    "test_datagen = ImageDataGenerator(rescale=1./255)\n",
    "\n",
    "# this is a generator that will read pictures found in\n",
    "# subfolers of 'data/train', and indefinitely generate\n",
    "# batches of augmented image data\n",
    "train_generator = train_datagen.flow_from_directory(\n",
    "        'prep/train',  # this is the target directory\n",
    "        target_size=(ROWS, COLS),  # all images will be resized to 150x150\n",
    "        batch_size=batch_size,\n",
    "        class_mode='categorical')  # since we use binary_crossentropy loss, we need binary labels\n",
    "\n",
    "# this is a similar generator, for validation data\n",
    "validation_generator = train_datagen.flow_from_directory(\n",
    "        'prep/val',\n",
    "        target_size=(ROWS, COLS),\n",
    "        batch_size=batch_size,\n",
    "        class_mode='categorical')\n",
    "\n",
    "test_generator = test_datagen.flow_from_directory(\n",
    "    'prep/test',\n",
    "    target_size=(64, 64),\n",
    "    class_mode=None,\n",
    "    batch_size=64,\n",
    "    shuffle=False)"
   ]
  },
  {
   "cell_type": "code",
   "execution_count": 34,
   "metadata": {},
   "outputs": [
    {
     "name": "stdout",
     "output_type": "stream",
     "text": [
      "_________________________________________________________________\n",
      "Layer (type)                 Output Shape              Param #   \n",
      "=================================================================\n",
      "conv2d_10 (Conv2D)           (None, 64, 64, 16)        208       \n",
      "_________________________________________________________________\n",
      "max_pooling2d_10 (MaxPooling (None, 32, 32, 16)        0         \n",
      "_________________________________________________________________\n",
      "conv2d_11 (Conv2D)           (None, 32, 32, 32)        2080      \n",
      "_________________________________________________________________\n",
      "max_pooling2d_11 (MaxPooling (None, 16, 16, 32)        0         \n",
      "_________________________________________________________________\n",
      "conv2d_12 (Conv2D)           (None, 16, 16, 64)        8256      \n",
      "_________________________________________________________________\n",
      "max_pooling2d_12 (MaxPooling (None, 8, 8, 64)          0         \n",
      "_________________________________________________________________\n",
      "conv2d_13 (Conv2D)           (None, 8, 8, 128)         32896     \n",
      "_________________________________________________________________\n",
      "max_pooling2d_13 (MaxPooling (None, 4, 4, 128)         0         \n",
      "_________________________________________________________________\n",
      "dropout_5 (Dropout)          (None, 4, 4, 128)         0         \n",
      "_________________________________________________________________\n",
      "flatten_3 (Flatten)          (None, 2048)              0         \n",
      "_________________________________________________________________\n",
      "dense_5 (Dense)              (None, 512)               1049088   \n",
      "_________________________________________________________________\n",
      "dropout_6 (Dropout)          (None, 512)               0         \n",
      "_________________________________________________________________\n",
      "dense_6 (Dense)              (None, 257)               131841    \n",
      "=================================================================\n",
      "Total params: 1,224,369.0\n",
      "Trainable params: 1,224,369.0\n",
      "Non-trainable params: 0.0\n",
      "_________________________________________________________________\n"
     ]
    }
   ],
   "source": [
    "from keras.layers import Conv2D, MaxPooling2D, GlobalAveragePooling1D\n",
    "from keras.layers import Dropout, Flatten, Dense\n",
    "from keras.models import Sequential\n",
    "\n",
    "model = Sequential()\n",
    "\n",
    "model.add(Conv2D(filters=16, kernel_size=2, padding='same', activation='relu', \n",
    "                        input_shape=(resize[0], resize[1], CHANNELS)))\n",
    "model.add(MaxPooling2D(pool_size=2))\n",
    "model.add(Conv2D(filters=32, kernel_size=2, padding='same', activation='relu'))\n",
    "model.add(MaxPooling2D(pool_size=2))\n",
    "model.add(Conv2D(filters=64, kernel_size=2, padding='same', activation='relu'))\n",
    "model.add(MaxPooling2D(pool_size=2))\n",
    "model.add(Conv2D(filters=128, kernel_size=2, padding='same', activation='relu'))\n",
    "model.add(MaxPooling2D(pool_size=2))\n",
    "#model.add(Conv2D(filters=256, kernel_size=3, padding='same', activation='relu'))\n",
    "#model.add(MaxPooling2D(pool_size=2))\n",
    "#model.add(Conv2D(filters=512, kernel_size=3, padding='same', activation='relu'))\n",
    "#model.add(MaxPooling2D(pool_size=2))\n",
    "model.add(Dropout(0.4))\n",
    "model.add(Flatten())\n",
    "model.add(Dense(512, activation='relu'))\n",
    "model.add(Dropout(0.4))\n",
    "model.add(Dense(257, activation='softmax'))\n",
    "\n",
    "model.summary()"
   ]
  },
  {
   "cell_type": "code",
   "execution_count": 35,
   "metadata": {
    "collapsed": true
   },
   "outputs": [],
   "source": [
    "model.compile(optimizer='adam', loss='categorical_crossentropy', metrics=['accuracy'])"
   ]
  },
  {
   "cell_type": "code",
   "execution_count": 36,
   "metadata": {
    "collapsed": true
   },
   "outputs": [],
   "source": [
    "from keras.callbacks import ModelCheckpoint, ReduceLROnPlateau, EarlyStopping\n",
    "\n",
    "epochs = 30\n",
    "\n",
    "checkpointer = [ModelCheckpoint(filepath='saved_models/weights.best.keras_aug2.hdf5', \n",
    "                               verbose=1, save_best_only=True),\n",
    "               ReduceLROnPlateau(verbose=1, patience=3, factor = 0.1), \n",
    "               EarlyStopping(verbose=1, patience=5, monitor='val_loss')]\n",
    "\n",
    "#model.fit(train, y_train, \n",
    "#          validation_data=(val, y_val),\n",
    "#          epochs=epochs, batch_size=64, callbacks=checkpointer, verbose=1)"
   ]
  },
  {
   "cell_type": "code",
   "execution_count": 37,
   "metadata": {},
   "outputs": [
    {
     "name": "stdout",
     "output_type": "stream",
     "text": [
      "Epoch 1/30\n",
      " 999/1001 [============================>.] - ETA: 0s - loss: 5.3012 - acc: 0.0532Epoch 00000: val_loss improved from inf to 5.04476, saving model to saved_models/weights.best.keras_aug2.hdf5\n",
      "1002/1001 [==============================] - 26s - loss: 5.3011 - acc: 0.0531 - val_loss: 5.0448 - val_acc: 0.0783\n",
      "Epoch 2/30\n",
      "1000/1001 [============================>.] - ETA: 0s - loss: 4.9426 - acc: 0.0935Epoch 00001: val_loss improved from 5.04476 to 4.71155, saving model to saved_models/weights.best.keras_aug2.hdf5\n",
      "1002/1001 [==============================] - 26s - loss: 4.9417 - acc: 0.0936 - val_loss: 4.7116 - val_acc: 0.1183\n",
      "Epoch 3/30\n",
      "1001/1001 [============================>.] - ETA: 0s - loss: 4.6759 - acc: 0.1217Epoch 00002: val_loss improved from 4.71155 to 4.52260, saving model to saved_models/weights.best.keras_aug2.hdf5\n",
      "1002/1001 [==============================] - 25s - loss: 4.6755 - acc: 0.1217 - val_loss: 4.5226 - val_acc: 0.1341\n",
      "Epoch 4/30\n",
      "1001/1001 [============================>.] - ETA: 0s - loss: 4.5023 - acc: 0.1400Epoch 00003: val_loss improved from 4.52260 to 4.36279, saving model to saved_models/weights.best.keras_aug2.hdf5\n",
      "1002/1001 [==============================] - 26s - loss: 4.5020 - acc: 0.1400 - val_loss: 4.3628 - val_acc: 0.1579\n",
      "Epoch 5/30\n",
      "1001/1001 [============================>.] - ETA: 0s - loss: 4.3741 - acc: 0.1513Epoch 00004: val_loss improved from 4.36279 to 4.26253, saving model to saved_models/weights.best.keras_aug2.hdf5\n",
      "1002/1001 [==============================] - 26s - loss: 4.3740 - acc: 0.1513 - val_loss: 4.2625 - val_acc: 0.1757\n",
      "Epoch 6/30\n",
      "1001/1001 [============================>.] - ETA: 0s - loss: 4.2498 - acc: 0.1651Epoch 00005: val_loss improved from 4.26253 to 4.23230, saving model to saved_models/weights.best.keras_aug2.hdf5\n",
      "1002/1001 [==============================] - 26s - loss: 4.2502 - acc: 0.1650 - val_loss: 4.2323 - val_acc: 0.1760\n",
      "Epoch 7/30\n",
      "1000/1001 [============================>.] - ETA: 0s - loss: 4.1912 - acc: 0.1726Epoch 00006: val_loss improved from 4.23230 to 4.14980, saving model to saved_models/weights.best.keras_aug2.hdf5\n",
      "1002/1001 [==============================] - 27s - loss: 4.1913 - acc: 0.1727 - val_loss: 4.1498 - val_acc: 0.1878\n",
      "Epoch 8/30\n",
      "1000/1001 [============================>.] - ETA: 0s - loss: 4.1007 - acc: 0.1831Epoch 00007: val_loss improved from 4.14980 to 4.08765, saving model to saved_models/weights.best.keras_aug2.hdf5\n",
      "1002/1001 [==============================] - 25s - loss: 4.1002 - acc: 0.1831 - val_loss: 4.0877 - val_acc: 0.1952\n",
      "Epoch 9/30\n",
      "1001/1001 [============================>.] - ETA: 0s - loss: 4.0548 - acc: 0.1865Epoch 00008: val_loss improved from 4.08765 to 4.03413, saving model to saved_models/weights.best.keras_aug2.hdf5\n",
      "1002/1001 [==============================] - 27s - loss: 4.0544 - acc: 0.1866 - val_loss: 4.0341 - val_acc: 0.2003\n",
      "Epoch 10/30\n",
      " 999/1001 [============================>.] - ETA: 0s - loss: 3.9826 - acc: 0.1973Epoch 00009: val_loss improved from 4.03413 to 3.98527, saving model to saved_models/weights.best.keras_aug2.hdf5\n",
      "1002/1001 [==============================] - 27s - loss: 3.9826 - acc: 0.1972 - val_loss: 3.9853 - val_acc: 0.2144\n",
      "Epoch 11/30\n",
      " 999/1001 [============================>.] - ETA: 0s - loss: 3.9376 - acc: 0.2025Epoch 00010: val_loss improved from 3.98527 to 3.91274, saving model to saved_models/weights.best.keras_aug2.hdf5\n",
      "1002/1001 [==============================] - 26s - loss: 3.9357 - acc: 0.2028 - val_loss: 3.9127 - val_acc: 0.2249\n",
      "Epoch 12/30\n",
      "1000/1001 [============================>.] - ETA: 0s - loss: 3.8856 - acc: 0.2054Epoch 00011: val_loss did not improve\n",
      "1002/1001 [==============================] - 26s - loss: 3.8851 - acc: 0.2055 - val_loss: 3.9189 - val_acc: 0.2234\n",
      "Epoch 13/30\n",
      "1000/1001 [============================>.] - ETA: 0s - loss: 3.8590 - acc: 0.2062Epoch 00012: val_loss did not improve\n",
      "1002/1001 [==============================] - 25s - loss: 3.8579 - acc: 0.2063 - val_loss: 3.9139 - val_acc: 0.2239\n",
      "Epoch 14/30\n",
      "1000/1001 [============================>.] - ETA: 0s - loss: 3.8307 - acc: 0.2148Epoch 00013: val_loss improved from 3.91274 to 3.90178, saving model to saved_models/weights.best.keras_aug2.hdf5\n",
      "1002/1001 [==============================] - 26s - loss: 3.8303 - acc: 0.2151 - val_loss: 3.9018 - val_acc: 0.2258\n",
      "Epoch 15/30\n",
      "1001/1001 [============================>.] - ETA: 0s - loss: 3.7804 - acc: 0.2183Epoch 00014: val_loss improved from 3.90178 to 3.84507, saving model to saved_models/weights.best.keras_aug2.hdf5\n",
      "1002/1001 [==============================] - 26s - loss: 3.7807 - acc: 0.2182 - val_loss: 3.8451 - val_acc: 0.2281\n",
      "Epoch 16/30\n",
      " 999/1001 [============================>.] - ETA: 0s - loss: 3.7432 - acc: 0.2251Epoch 00015: val_loss improved from 3.84507 to 3.83435, saving model to saved_models/weights.best.keras_aug2.hdf5\n",
      "1002/1001 [==============================] - 25s - loss: 3.7434 - acc: 0.2254 - val_loss: 3.8343 - val_acc: 0.2339\n",
      "Epoch 17/30\n",
      "1000/1001 [============================>.] - ETA: 0s - loss: 3.7130 - acc: 0.2276Epoch 00016: val_loss improved from 3.83435 to 3.81624, saving model to saved_models/weights.best.keras_aug2.hdf5\n",
      "1002/1001 [==============================] - 24s - loss: 3.7132 - acc: 0.2277 - val_loss: 3.8162 - val_acc: 0.2461\n",
      "Epoch 18/30\n",
      "1001/1001 [============================>.] - ETA: 0s - loss: 3.6788 - acc: 0.2321Epoch 00017: val_loss did not improve\n",
      "1002/1001 [==============================] - 25s - loss: 3.6780 - acc: 0.2323 - val_loss: 3.8660 - val_acc: 0.2371\n",
      "Epoch 19/30\n",
      "1000/1001 [============================>.] - ETA: 0s - loss: 3.6723 - acc: 0.2316Epoch 00018: val_loss did not improve\n",
      "1002/1001 [==============================] - 26s - loss: 3.6709 - acc: 0.2318 - val_loss: 3.8205 - val_acc: 0.2408\n",
      "Epoch 20/30\n",
      "1000/1001 [============================>.] - ETA: 0s - loss: 3.6570 - acc: 0.2349Epoch 00019: val_loss improved from 3.81624 to 3.78724, saving model to saved_models/weights.best.keras_aug2.hdf5\n",
      "1002/1001 [==============================] - 26s - loss: 3.6555 - acc: 0.2353 - val_loss: 3.7872 - val_acc: 0.2491\n",
      "Epoch 21/30\n",
      "1000/1001 [============================>.] - ETA: 0s - loss: 3.6290 - acc: 0.2383Epoch 00020: val_loss did not improve\n",
      "1002/1001 [==============================] - 27s - loss: 3.6296 - acc: 0.2382 - val_loss: 3.8393 - val_acc: 0.2438\n",
      "Epoch 22/30\n",
      "1000/1001 [============================>.] - ETA: 0s - loss: 3.6165 - acc: 0.2353Epoch 00021: val_loss improved from 3.78724 to 3.76539, saving model to saved_models/weights.best.keras_aug2.hdf5\n",
      "1002/1001 [==============================] - 26s - loss: 3.6163 - acc: 0.2354 - val_loss: 3.7654 - val_acc: 0.2488\n",
      "Epoch 23/30\n",
      " 999/1001 [============================>.] - ETA: 0s - loss: 3.5747 - acc: 0.2477Epoch 00022: val_loss improved from 3.76539 to 3.74786, saving model to saved_models/weights.best.keras_aug2.hdf5\n",
      "1002/1001 [==============================] - 26s - loss: 3.5742 - acc: 0.2477 - val_loss: 3.7479 - val_acc: 0.2588\n",
      "Epoch 24/30\n",
      " 998/1001 [============================>.] - ETA: 0s - loss: 3.5769 - acc: 0.2448Epoch 00023: val_loss did not improve\n",
      "1002/1001 [==============================] - 25s - loss: 3.5782 - acc: 0.2447 - val_loss: 3.7568 - val_acc: 0.2572\n",
      "Epoch 25/30\n",
      " 998/1001 [============================>.] - ETA: 0s - loss: 3.5597 - acc: 0.2452Epoch 00024: val_loss did not improve\n",
      "1002/1001 [==============================] - 26s - loss: 3.5596 - acc: 0.2452 - val_loss: 3.7509 - val_acc: 0.2533\n",
      "Epoch 26/30\n",
      "1000/1001 [============================>.] - ETA: 0s - loss: 3.5397 - acc: 0.2493Epoch 00025: val_loss improved from 3.74786 to 3.72331, saving model to saved_models/weights.best.keras_aug2.hdf5\n",
      "1002/1001 [==============================] - 27s - loss: 3.5402 - acc: 0.2492 - val_loss: 3.7233 - val_acc: 0.2588\n",
      "Epoch 27/30\n",
      " 998/1001 [============================>.] - ETA: 0s - loss: 3.5228 - acc: 0.2516Epoch 00026: val_loss did not improve\n",
      "1002/1001 [==============================] - 26s - loss: 3.5208 - acc: 0.2519 - val_loss: 3.7922 - val_acc: 0.2476\n",
      "Epoch 28/30\n",
      "1001/1001 [============================>.] - ETA: 0s - loss: 3.4966 - acc: 0.2541Epoch 00027: val_loss did not improve\n"
     ]
    },
    {
     "name": "stdout",
     "output_type": "stream",
     "text": [
      "1002/1001 [==============================] - 25s - loss: 3.4961 - acc: 0.2542 - val_loss: 3.8174 - val_acc: 0.2466\n",
      "Epoch 29/30\n",
      "1001/1001 [============================>.] - ETA: 0s - loss: 3.5079 - acc: 0.2525Epoch 00028: val_loss did not improve\n",
      "1002/1001 [==============================] - 25s - loss: 3.5072 - acc: 0.2526 - val_loss: 3.7312 - val_acc: 0.2600\n",
      "Epoch 30/30\n",
      " 999/1001 [============================>.] - ETA: 0s - loss: 3.4879 - acc: 0.2545Epoch 00029: val_loss did not improve\n",
      "\n",
      "Epoch 00029: reducing learning rate to 0.00010000000474974513.\n",
      "1002/1001 [==============================] - 26s - loss: 3.4865 - acc: 0.2545 - val_loss: 3.7773 - val_acc: 0.2537\n"
     ]
    },
    {
     "data": {
      "text/plain": [
       "<keras.callbacks.History at 0x7f2ed831ff98>"
      ]
     },
     "execution_count": 37,
     "metadata": {},
     "output_type": "execute_result"
    }
   ],
   "source": [
    "model.fit_generator(\n",
    "        train_generator,\n",
    "        steps_per_epoch=len(train_data) / batch_size,\n",
    "        epochs=epochs,\n",
    "        validation_data=validation_generator,\n",
    "        validation_steps=len(valid_data) / batch_size, callbacks=checkpointer, verbose=1)"
   ]
  },
  {
   "cell_type": "code",
   "execution_count": 38,
   "metadata": {},
   "outputs": [
    {
     "name": "stdout",
     "output_type": "stream",
     "text": [
      "Validation accuracy: 29.08%\n"
     ]
    }
   ],
   "source": [
    "model.load_weights('saved_models/weights.best.keras_aug2.hdf5')\n",
    "predictions = [np.argmax(model.predict(np.expand_dims(feature, axis=0))) for feature in valid_data]\n",
    "# get val accuracy\n",
    "val_accuracy = 100*np.sum(np.array(predictions)==np.argmax(y_val, axis=1))/len(predictions)\n",
    "print('Validation accuracy: %.2f%%' % val_accuracy)"
   ]
  },
  {
   "cell_type": "code",
   "execution_count": 21,
   "metadata": {},
   "outputs": [],
   "source": [
    "predictions_test = [1+np.argmax(model.predict(np.expand_dims(feature, axis=0))) for feature in test_data]"
   ]
  },
  {
   "cell_type": "code",
   "execution_count": 25,
   "metadata": {},
   "outputs": [
    {
     "data": {
      "text/html": [
       "<div>\n",
       "<style>\n",
       "    .dataframe thead tr:only-child th {\n",
       "        text-align: right;\n",
       "    }\n",
       "\n",
       "    .dataframe thead th {\n",
       "        text-align: left;\n",
       "    }\n",
       "\n",
       "    .dataframe tbody tr th {\n",
       "        vertical-align: top;\n",
       "    }\n",
       "</style>\n",
       "<table border=\"1\" class=\"dataframe\">\n",
       "  <thead>\n",
       "    <tr style=\"text-align: right;\">\n",
       "      <th></th>\n",
       "      <th>image</th>\n",
       "      <th>class</th>\n",
       "    </tr>\n",
       "  </thead>\n",
       "  <tbody>\n",
       "    <tr>\n",
       "      <th>0</th>\n",
       "      <td>16800.jpg</td>\n",
       "      <td>105</td>\n",
       "    </tr>\n",
       "    <tr>\n",
       "      <th>1</th>\n",
       "      <td>19320.jpg</td>\n",
       "      <td>232</td>\n",
       "    </tr>\n",
       "    <tr>\n",
       "      <th>2</th>\n",
       "      <td>21505.jpg</td>\n",
       "      <td>149</td>\n",
       "    </tr>\n",
       "    <tr>\n",
       "      <th>3</th>\n",
       "      <td>11014.jpg</td>\n",
       "      <td>232</td>\n",
       "    </tr>\n",
       "    <tr>\n",
       "      <th>4</th>\n",
       "      <td>10790.jpg</td>\n",
       "      <td>38</td>\n",
       "    </tr>\n",
       "  </tbody>\n",
       "</table>\n",
       "</div>"
      ],
      "text/plain": [
       "       image  class\n",
       "0  16800.jpg    105\n",
       "1  19320.jpg    232\n",
       "2  21505.jpg    149\n",
       "3  11014.jpg    232\n",
       "4  10790.jpg     38"
      ]
     },
     "execution_count": 25,
     "metadata": {},
     "output_type": "execute_result"
    }
   ],
   "source": [
    "image = [item.split('/')[2] for item in test_files]\n",
    "submission = pd.DataFrame(\n",
    "    {'image': image,\n",
    "     'class': predictions_test\n",
    "    })\n",
    "submission = submission[['image','class']]\n",
    "submission.head()"
   ]
  },
  {
   "cell_type": "code",
   "execution_count": 26,
   "metadata": {
    "collapsed": true
   },
   "outputs": [],
   "source": [
    "submission.to_csv('keras_aug.csv', index = False)"
   ]
  },
  {
   "cell_type": "code",
   "execution_count": 39,
   "metadata": {
    "collapsed": true
   },
   "outputs": [],
   "source": [
    "#keras_aug1.hdf5 - 28.17%\n",
    "#keras_aug2.hdf5 - 29.08% - 3 conv layers"
   ]
  },
  {
   "cell_type": "code",
   "execution_count": 40,
   "metadata": {},
   "outputs": [
    {
     "data": {
      "text/plain": [
       "2"
      ]
     },
     "execution_count": 40,
     "metadata": {},
     "output_type": "execute_result"
    }
   ],
   "source": [
    "1+1"
   ]
  },
  {
   "cell_type": "code",
   "execution_count": null,
   "metadata": {
    "collapsed": true
   },
   "outputs": [],
   "source": []
  }
 ],
 "metadata": {
  "kernelspec": {
   "display_name": "Python 3",
   "language": "python",
   "name": "python3"
  },
  "language_info": {
   "codemirror_mode": {
    "name": "ipython",
    "version": 3
   },
   "file_extension": ".py",
   "mimetype": "text/x-python",
   "name": "python",
   "nbconvert_exporter": "python",
   "pygments_lexer": "ipython3",
   "version": "3.6.1"
  }
 },
 "nbformat": 4,
 "nbformat_minor": 2
}
